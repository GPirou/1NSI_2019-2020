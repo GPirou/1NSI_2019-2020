{
 "cells": [
  {
   "cell_type": "markdown",
   "metadata": {},
   "source": [
    "# Le BN pour encoder et traiter des textes en machine"
   ]
  },
  {
   "cell_type": "markdown",
   "metadata": {},
   "source": [
    "Un paquet de données transmit entre deux machines via internet que ce soit du texte, des images ou du son, tout comme un fichier informatique quelqu'il soit, ne sont finalement qu'une suite de 0 et de 1 que l'on peut regrouper par lots de 8 formant ainsi une séquence d'octects.\n",
    "\n",
    "Utiliser un encodage plutôt qu'un autre revient à interpréter la même séquence d'octets de deux façons différentes au risque de commettre des erreurs...\n",
    "\n",
    "## L'ASCII :\n",
    "\n",
    "Pour interpréter correctement un message textuel échangé entre ordinateurs, le choix d'une convention de codage commune et standardisée s'est imposé dès le début des années 1960. C'est la norme **ASCII** pour American Standard Code for Information Interchange qui a été retenu pour le codage des caractères.\n",
    "\n",
    "C'est une table de 128 caractère numérotés de 0 à 127 (sur 7 bits) :\n",
    "\n",
    "<img alt=\"ASCII-Table\" src=\"https://upload.wikimedia.org/wikipedia/commons/d/dd/ASCII-Table.svg\">\n",
    "\n",
    "Ce jeu de symboles est suffisant pour rédiger un programme informatique ou un texte en Anglais. Mais il ne permet pas d'écrire dans d'autres langues qui utiliseraient des accents par exemple...\n",
    "\n",
    "><h2 class='fa fa-graduation-cap' style=\"color: purple\"> Exercice d'application :</h2>\n",
    ">\n",
    "> Peut-on transformer l'image précédemment étudiée en un message textuel codé en ASCCI ?\n",
    "> \n",
    "><img src=\"https://ericecmorlaix.github.io/img/NSI-ASCII-2D_Code.png\" alt=\"ExerciceCodageASCII.png\">\n",
    ">\n",
    "\n",
    "## Python et l'ASCII :\n",
    "\n",
    "La fonction `ord()` renvoie le nombre entier décimal du code ASCII correspondant au caractère passé en argument.\n",
    "\n",
    "Inversement, `chr()` renvoie le caractère correspondant dans la table ASCII à l'entier passé à cette fonction.\n",
    "\n"
   ]
  },
  {
   "cell_type": "code",
   "execution_count": 37,
   "metadata": {},
   "outputs": [
    {
     "data": {
      "text/plain": [
       "'A'"
      ]
     },
     "execution_count": 37,
     "metadata": {},
     "output_type": "execute_result"
    }
   ],
   "source": [
    "chr(0b01000001)"
   ]
  },
  {
   "cell_type": "code",
   "execution_count": 38,
   "metadata": {},
   "outputs": [
    {
     "data": {
      "text/plain": [
       "'A'"
      ]
     },
     "execution_count": 38,
     "metadata": {},
     "output_type": "execute_result"
    }
   ],
   "source": [
    "chr(0x41)"
   ]
  },
  {
   "cell_type": "code",
   "execution_count": 39,
   "metadata": {},
   "outputs": [
    {
     "data": {
      "text/plain": [
       "65"
      ]
     },
     "execution_count": 39,
     "metadata": {},
     "output_type": "execute_result"
    }
   ],
   "source": [
    "ord('A')"
   ]
  },
  {
   "cell_type": "code",
   "execution_count": 40,
   "metadata": {},
   "outputs": [
    {
     "data": {
      "text/plain": [
       "'0b1000001'"
      ]
     },
     "execution_count": 40,
     "metadata": {},
     "output_type": "execute_result"
    }
   ],
   "source": [
    "bin(65)"
   ]
  },
  {
   "cell_type": "code",
   "execution_count": 41,
   "metadata": {},
   "outputs": [
    {
     "data": {
      "text/plain": [
       "'0x41'"
      ]
     },
     "execution_count": 41,
     "metadata": {},
     "output_type": "execute_result"
    }
   ],
   "source": [
    "hex(ord('A'))"
   ]
  },
  {
   "cell_type": "markdown",
   "metadata": {},
   "source": [
    "><h2 class='fa fa-code' style=\"color: purple\"> A coder vous même :</h2>\n",
    ">\n",
    "> **Ecrire** un script qui affiche dans un tableau l'ensemble des caractères imprimables et leur code ASCII respectif"
   ]
  },
  {
   "cell_type": "code",
   "execution_count": 62,
   "metadata": {},
   "outputs": [
    {
     "name": "stdout",
     "output_type": "stream",
     "text": [
      "chr(32) =    |  chr(33) = !  |  chr(34) = \"  |  chr(35) = #  |  chr(36) = $  |  chr(37) = %  |  chr(38) = &  |  chr(39) = '  |  chr(40) = (  |  chr(41) = )  |  chr(42) = *  |  chr(43) = +  |  chr(44) = ,  |  chr(45) = -  |  chr(46) = .  |  chr(47) = /  |  chr(48) = 0  |  chr(49) = 1  |  chr(50) = 2  |  chr(51) = 3  |  chr(52) = 4  |  chr(53) = 5  |  chr(54) = 6  |  chr(55) = 7  |  chr(56) = 8  |  chr(57) = 9  |  chr(58) = :  |  chr(59) = ;  |  chr(60) = <  |  chr(61) = =  |  chr(62) = >  |  chr(63) = ?  |  chr(64) = @  |  chr(65) = A  |  chr(66) = B  |  chr(67) = C  |  chr(68) = D  |  chr(69) = E  |  chr(70) = F  |  chr(71) = G  |  chr(72) = H  |  chr(73) = I  |  chr(74) = J  |  chr(75) = K  |  chr(76) = L  |  chr(77) = M  |  chr(78) = N  |  chr(79) = O  |  chr(80) = P  |  chr(81) = Q  |  chr(82) = R  |  chr(83) = S  |  chr(84) = T  |  chr(85) = U  |  chr(86) = V  |  chr(87) = W  |  chr(88) = X  |  chr(89) = Y  |  chr(90) = Z  |  chr(91) = [  |  chr(92) = \\  |  chr(93) = ]  |  chr(94) = ^  |  chr(95) = _  |  chr(96) = `  |  chr(97) = a  |  chr(98) = b  |  chr(99) = c  |  chr(100) = d  |  chr(101) = e  |  chr(102) = f  |  chr(103) = g  |  chr(104) = h  |  chr(105) = i  |  chr(106) = j  |  chr(107) = k  |  chr(108) = l  |  chr(109) = m  |  chr(110) = n  |  chr(111) = o  |  chr(112) = p  |  chr(113) = q  |  chr(114) = r  |  chr(115) = s  |  chr(116) = t  |  chr(117) = u  |  chr(118) = v  |  chr(119) = w  |  chr(120) = x  |  chr(121) = y  |  chr(122) = z  |  chr(123) = {  |  chr(124) = |  |  chr(125) = }  |  chr(126) = ~  |  "
     ]
    }
   ],
   "source": [
    "for i in range (32,127):\n",
    "    print(f'chr({i}) = '+ chr(i), end='  |  ')"
   ]
  },
  {
   "cell_type": "code",
   "execution_count": 68,
   "metadata": {},
   "outputs": [
    {
     "name": "stdout",
     "output_type": "stream",
     "text": [
      "| Code décimal | Caractère |\n",
      "|:--------|----------:|\n",
      "| chr(32) |   |\n",
      "| chr(33) | ! |\n",
      "| chr(34) | \" |\n",
      "| chr(35) | # |\n",
      "| chr(36) | $ |\n",
      "| chr(37) | % |\n",
      "| chr(38) | & |\n",
      "| chr(39) | ' |\n",
      "| chr(40) | ( |\n",
      "| chr(41) | ) |\n",
      "| chr(42) | * |\n",
      "| chr(43) | + |\n",
      "| chr(44) | , |\n",
      "| chr(45) | - |\n",
      "| chr(46) | . |\n",
      "| chr(47) | / |\n",
      "| chr(48) | 0 |\n",
      "| chr(49) | 1 |\n",
      "| chr(50) | 2 |\n",
      "| chr(51) | 3 |\n",
      "| chr(52) | 4 |\n",
      "| chr(53) | 5 |\n",
      "| chr(54) | 6 |\n",
      "| chr(55) | 7 |\n",
      "| chr(56) | 8 |\n",
      "| chr(57) | 9 |\n",
      "| chr(58) | : |\n",
      "| chr(59) | ; |\n",
      "| chr(60) | < |\n",
      "| chr(61) | = |\n",
      "| chr(62) | > |\n",
      "| chr(63) | ? |\n",
      "| chr(64) | @ |\n",
      "| chr(65) | A |\n",
      "| chr(66) | B |\n",
      "| chr(67) | C |\n",
      "| chr(68) | D |\n",
      "| chr(69) | E |\n",
      "| chr(70) | F |\n",
      "| chr(71) | G |\n",
      "| chr(72) | H |\n",
      "| chr(73) | I |\n",
      "| chr(74) | J |\n",
      "| chr(75) | K |\n",
      "| chr(76) | L |\n",
      "| chr(77) | M |\n",
      "| chr(78) | N |\n",
      "| chr(79) | O |\n",
      "| chr(80) | P |\n",
      "| chr(81) | Q |\n",
      "| chr(82) | R |\n",
      "| chr(83) | S |\n",
      "| chr(84) | T |\n",
      "| chr(85) | U |\n",
      "| chr(86) | V |\n",
      "| chr(87) | W |\n",
      "| chr(88) | X |\n",
      "| chr(89) | Y |\n",
      "| chr(90) | Z |\n",
      "| chr(91) | [ |\n",
      "| chr(92) | \\ |\n",
      "| chr(93) | ] |\n",
      "| chr(94) | ^ |\n",
      "| chr(95) | _ |\n",
      "| chr(96) | ` |\n",
      "| chr(97) | a |\n",
      "| chr(98) | b |\n",
      "| chr(99) | c |\n",
      "| chr(100) | d |\n",
      "| chr(101) | e |\n",
      "| chr(102) | f |\n",
      "| chr(103) | g |\n",
      "| chr(104) | h |\n",
      "| chr(105) | i |\n",
      "| chr(106) | j |\n",
      "| chr(107) | k |\n",
      "| chr(108) | l |\n",
      "| chr(109) | m |\n",
      "| chr(110) | n |\n",
      "| chr(111) | o |\n",
      "| chr(112) | p |\n",
      "| chr(113) | q |\n",
      "| chr(114) | r |\n",
      "| chr(115) | s |\n",
      "| chr(116) | t |\n",
      "| chr(117) | u |\n",
      "| chr(118) | v |\n",
      "| chr(119) | w |\n",
      "| chr(120) | x |\n",
      "| chr(121) | y |\n",
      "| chr(122) | z |\n",
      "| chr(123) | { |\n",
      "| chr(124) | | |\n",
      "| chr(125) | } |\n",
      "| chr(126) | ~ |\n"
     ]
    }
   ],
   "source": [
    "print(\"| Code décimal | Caractère |\")\n",
    "print(\"|:--------|----------:|\")\n",
    "for i in range (32,127) :\n",
    "    print(f\"| chr({i}) | \" + chr(i) + \" |\")"
   ]
  },
  {
   "cell_type": "markdown",
   "metadata": {},
   "source": [
    "| Code décimal | Caractère |\n",
    "|:--------|----------:|\n",
    "| chr(32) |   |\n",
    "| chr(33) | ! |\n",
    "| chr(34) | \" |\n",
    "| chr(35) | # |\n",
    "| chr(36) | $ |\n",
    "| chr(37) | % |\n",
    "| chr(38) | & |\n",
    "| chr(39) | ' |\n",
    "| chr(40) | ( |\n",
    "| chr(41) | ) |\n",
    "| chr(42) | * |\n",
    "| chr(43) | + |\n",
    "| chr(44) | , |\n",
    "| chr(45) | - |\n",
    "| chr(46) | . |\n",
    "| chr(47) | / |\n",
    "| chr(48) | 0 |\n",
    "| chr(49) | 1 |\n",
    "| chr(50) | 2 |\n",
    "| chr(51) | 3 |\n",
    "| chr(52) | 4 |\n",
    "| chr(53) | 5 |\n",
    "| chr(54) | 6 |\n",
    "| chr(55) | 7 |\n",
    "| chr(56) | 8 |\n",
    "| chr(57) | 9 |\n",
    "| chr(58) | : |\n",
    "| chr(59) | ; |\n",
    "| chr(60) | < |\n",
    "| chr(61) | = |\n",
    "| chr(62) | > |\n",
    "| chr(63) | ? |\n",
    "| chr(64) | @ |\n",
    "| chr(65) | A |\n",
    "| chr(66) | B |\n",
    "| chr(67) | C |\n",
    "| chr(68) | D |\n",
    "| chr(69) | E |\n",
    "| chr(70) | F |\n",
    "| chr(71) | G |\n",
    "| chr(72) | H |\n",
    "| chr(73) | I |\n",
    "| chr(74) | J |\n",
    "| chr(75) | K |\n",
    "| chr(76) | L |\n",
    "| chr(77) | M |\n",
    "| chr(78) | N |\n",
    "| chr(79) | O |\n",
    "| chr(80) | P |\n",
    "| chr(81) | Q |\n",
    "| chr(82) | R |\n",
    "| chr(83) | S |\n",
    "| chr(84) | T |\n",
    "| chr(85) | U |\n",
    "| chr(86) | V |\n",
    "| chr(87) | W |\n",
    "| chr(88) | X |\n",
    "| chr(89) | Y |\n",
    "| chr(90) | Z |\n",
    "| chr(91) | [ |\n",
    "| chr(92) | \\ |\n",
    "| chr(93) | ] |\n",
    "| chr(94) | ^ |\n",
    "| chr(95) | _ |\n",
    "| chr(96) | ` |\n",
    "| chr(97) | a |\n",
    "| chr(98) | b |\n",
    "| chr(99) | c |\n",
    "| chr(100) | d |\n",
    "| chr(101) | e |\n",
    "| chr(102) | f |\n",
    "| chr(103) | g |\n",
    "| chr(104) | h |\n",
    "| chr(105) | i |\n",
    "| chr(106) | j |\n",
    "| chr(107) | k |\n",
    "| chr(108) | l |\n",
    "| chr(109) | m |\n",
    "| chr(110) | n |\n",
    "| chr(111) | o |\n",
    "| chr(112) | p |\n",
    "| chr(113) | q |\n",
    "| chr(114) | r |\n",
    "| chr(115) | s |\n",
    "| chr(116) | t |\n",
    "| chr(117) | u |\n",
    "| chr(118) | v |\n",
    "| chr(119) | w |\n",
    "| chr(120) | x |\n",
    "| chr(121) | y |\n",
    "| chr(122) | z |\n",
    "| chr(123) | { |\n",
    "| chr(124) | | |\n",
    "| chr(125) | } |\n",
    "| chr(126) | ~ |"
   ]
  },
  {
   "cell_type": "code",
   "execution_count": 3,
   "metadata": {},
   "outputs": [
    {
     "data": {
      "text/markdown": [
       "| Code décimal | Caractère |\n",
       "|:--------|----------:|\n",
       "| chr(32) |   |\n",
       "| chr(33) | ! |\n",
       "| chr(34) | \" |\n",
       "| chr(35) | # |\n",
       "| chr(36) | $ |\n",
       "| chr(37) | % |\n",
       "| chr(38) | & |\n",
       "| chr(39) | ' |\n",
       "| chr(40) | ( |\n",
       "| chr(41) | ) |\n",
       "| chr(42) | * |\n",
       "| chr(43) | + |\n",
       "| chr(44) | , |\n",
       "| chr(45) | - |\n",
       "| chr(46) | . |\n",
       "| chr(47) | / |\n",
       "| chr(48) | 0 |\n",
       "| chr(49) | 1 |\n",
       "| chr(50) | 2 |\n",
       "| chr(51) | 3 |\n",
       "| chr(52) | 4 |\n",
       "| chr(53) | 5 |\n",
       "| chr(54) | 6 |\n",
       "| chr(55) | 7 |\n",
       "| chr(56) | 8 |\n",
       "| chr(57) | 9 |\n",
       "| chr(58) | : |\n",
       "| chr(59) | ; |\n",
       "| chr(60) | < |\n",
       "| chr(61) | = |\n",
       "| chr(62) | > |\n",
       "| chr(63) | ? |\n",
       "| chr(64) | @ |\n",
       "| chr(65) | A |\n",
       "| chr(66) | B |\n",
       "| chr(67) | C |\n",
       "| chr(68) | D |\n",
       "| chr(69) | E |\n",
       "| chr(70) | F |\n",
       "| chr(71) | G |\n",
       "| chr(72) | H |\n",
       "| chr(73) | I |\n",
       "| chr(74) | J |\n",
       "| chr(75) | K |\n",
       "| chr(76) | L |\n",
       "| chr(77) | M |\n",
       "| chr(78) | N |\n",
       "| chr(79) | O |\n",
       "| chr(80) | P |\n",
       "| chr(81) | Q |\n",
       "| chr(82) | R |\n",
       "| chr(83) | S |\n",
       "| chr(84) | T |\n",
       "| chr(85) | U |\n",
       "| chr(86) | V |\n",
       "| chr(87) | W |\n",
       "| chr(88) | X |\n",
       "| chr(89) | Y |\n",
       "| chr(90) | Z |\n",
       "| chr(91) | [ |\n",
       "| chr(92) | \\ |\n",
       "| chr(93) | ] |\n",
       "| chr(94) | ^ |\n",
       "| chr(95) | _ |\n",
       "| chr(96) | ` |\n",
       "| chr(97) | a |\n",
       "| chr(98) | b |\n",
       "| chr(99) | c |\n",
       "| chr(100) | d |\n",
       "| chr(101) | e |\n",
       "| chr(102) | f |\n",
       "| chr(103) | g |\n",
       "| chr(104) | h |\n",
       "| chr(105) | i |\n",
       "| chr(106) | j |\n",
       "| chr(107) | k |\n",
       "| chr(108) | l |\n",
       "| chr(109) | m |\n",
       "| chr(110) | n |\n",
       "| chr(111) | o |\n",
       "| chr(112) | p |\n",
       "| chr(113) | q |\n",
       "| chr(114) | r |\n",
       "| chr(115) | s |\n",
       "| chr(116) | t |\n",
       "| chr(117) | u |\n",
       "| chr(118) | v |\n",
       "| chr(119) | w |\n",
       "| chr(120) | x |\n",
       "| chr(121) | y |\n",
       "| chr(122) | z |\n",
       "| chr(123) | { |\n",
       "| chr(124) | | |\n",
       "| chr(125) | } |\n",
       "| chr(126) | ~ |\n"
      ],
      "text/plain": [
       "<IPython.core.display.Markdown object>"
      ]
     },
     "execution_count": 3,
     "metadata": {},
     "output_type": "execute_result"
    }
   ],
   "source": [
    "from IPython.display import Markdown\n",
    "    \n",
    "chaine ='''| Code décimal | Caractère |\n",
    "|:--------|----------:|\\n'''\n",
    " \n",
    "for i in range (32,127) :\n",
    "    chaine += f\"| chr({i}) | {chr(i)} |\\n\"\n",
    "Markdown(chaine)"
   ]
  },
  {
   "cell_type": "markdown",
   "metadata": {},
   "source": [
    "## L'art ASCII :\n",
    "\n",
    "***\n",
    "> De [l’art ASCII](https://fr.wikipedia.org/wiki/Art_ASCII) (prononcé [aski:]) consiste à créer des images uniquement à l'aide des lettres et caractères spéciaux contenus dans l'American Standard Code for Information Interchange [ASCII](https://fr.wikipedia.org/wiki/American_Standard_Code_for_Information_Interchange) \n",
    ">\n",
    "> C'est l'ancêtre des [émoticônes](https://fr.wikipedia.org/wiki/Émoticône)...  ;-)\n",
    "\n",
    "<img src=\"https://ericecmorlaix.github.io/img/aSki.jpg\" alt=\"dessin skieur\" width=40%>\n",
    "<center>Art ASCII ou art à ski ?</center>\n",
    "\n",
    "***\n",
    "\n",
    "Les caractères peuvent être saisis directement par leur code ASCII en utilisant la notation ``\\xhh`` où ``hh`` est le code hexadécimal du caractère."
   ]
  },
  {
   "cell_type": "code",
   "execution_count": 36,
   "metadata": {},
   "outputs": [
    {
     "name": "stdout",
     "output_type": "stream",
     "text": [
      "      \\|||/\n",
      "      (0 0)\n",
      ".~ooO~~(_)~~~~~~.\n",
      "|               |\n",
      "|  L'art ASCII  |\n",
      "|               |\n",
      "'~~~~~~~~~~~ooO~'\n",
      "     |__|__|\n",
      "      || ||\n",
      "     ooO Ooo\n"
     ]
    }
   ],
   "source": [
    "print('\\x20' * 6 + '\\x5c' + '\\x7c' * 3 + '\\x2f')\n",
    "print('\\x20' * 6 + '(0 0)')\n",
    "print('\\x2e\\x7e\\x6f\\x6f\\x4f\\x7e\\x7e(\\x5f)' + '\\x7e' * 6 + '\\x2e')\n",
    "\n",
    "for i in range (0,3):\n",
    "    if i == 1 :\n",
    "        print('\\x7c  L\\'art ASCII  \\x7c')\n",
    "    else :\n",
    "        print('\\x7c' + '\\x20' * 15 + '\\x7c')\n",
    "    \n",
    "print(\"\\x27\" + '\\x7e' * 11 + \"\\x6f\\x6f\\x4f\\x7e\\x27\")\n",
    "\n",
    "print('\\x20' * 5 + '\\x7c' + '\\x5f' * 2 + '\\x7c' + '\\x5f' * 2 + '\\x7c')\n",
    "print('\\x20' * 6 + '\\x7c' * 2 + '\\x20' + '\\x7c' * 2)\n",
    "print('\\x20' * 5 + '\\x6f' * 2 + '\\x4f\\x20\\x4f' + '\\x6f'*2)"
   ]
  },
  {
   "cell_type": "markdown",
   "metadata": {},
   "source": [
    "><h2 class='fa fa-code' style=\"color: purple\"> A coder vous même :</h2>\n",
    ">\n",
    "> **Développer** votre avatar en Art ASCII pour signer les docstrings de vos fonctions..."
   ]
  },
  {
   "cell_type": "markdown",
   "metadata": {},
   "source": [
    "## Chaine de caractères"
   ]
  },
  {
   "cell_type": "code",
   "execution_count": 1,
   "metadata": {},
   "outputs": [],
   "source": [
    "une_chaine = \"Joyeux Anniversaire\""
   ]
  },
  {
   "cell_type": "markdown",
   "metadata": {},
   "source": [
    "### Quel est le type de cette variable ? - fonction type ()"
   ]
  },
  {
   "cell_type": "code",
   "execution_count": 2,
   "metadata": {},
   "outputs": [
    {
     "data": {
      "text/plain": [
       "str"
      ]
     },
     "execution_count": 2,
     "metadata": {},
     "output_type": "execute_result"
    }
   ],
   "source": [
    "type (une_chaine)"
   ]
  },
  {
   "cell_type": "markdown",
   "metadata": {},
   "source": [
    "### Quelle est la longueur de cette chaîne de caractères ?"
   ]
  },
  {
   "cell_type": "code",
   "execution_count": 3,
   "metadata": {},
   "outputs": [
    {
     "data": {
      "text/plain": [
       "19"
      ]
     },
     "execution_count": 3,
     "metadata": {},
     "output_type": "execute_result"
    }
   ],
   "source": [
    "len (une_chaine)"
   ]
  },
  {
   "cell_type": "markdown",
   "metadata": {},
   "source": [
    "<style type=\"text/css\">\n",
    ".tg  {border-collapse:collapse;border-spacing:0;border-color:#aabcfe;}\n",
    ".tg td{font-family:Arial, sans-serif;font-size:14px;padding:10px 5px;border-style:solid;border-width:1px;overflow:hidden;word-break:normal;border-color:#aabcfe;color:#669;background-color:#e8edff;}\n",
    ".tg th{font-family:Arial, sans-serif;font-size:14px;font-weight:normal;padding:10px 5px;border-style:solid;border-width:1px;overflow:hidden;word-break:normal;border-color:#aabcfe;color:#039;background-color:#b9c9fe;}\n",
    ".tg .tg-htl6{font-size:14px;font-family:\"Comic Sans MS\", cursive, sans-serif !important;;border-color:inherit;text-align:center;vertical-align:middle}\n",
    ".tg .tg-yaja{font-size:14px;font-family:\"Comic Sans MS\", cursive, sans-serif !important;;border-color:inherit;text-align:center;vertical-align:top}\n",
    ".tg .tg-l3hy{background-color:#D2E4FC;font-size:14px;font-family:\"Comic Sans MS\", cursive, sans-serif !important;;border-color:inherit;text-align:center;vertical-align:middle}\n",
    ".tg .tg-adyi{background-color:#D2E4FC;font-size:14px;font-family:\"Comic Sans MS\", cursive, sans-serif !important;;border-color:inherit;text-align:center;vertical-align:top}\n",
    "</style>\n",
    "<table class=\"tg\">\n",
    "  <tr>\n",
    "    <th class=\"tg-htl6\">J</th>\n",
    "    <th class=\"tg-htl6\">o</th>\n",
    "    <th class=\"tg-htl6\">y</th>\n",
    "    <th class=\"tg-htl6\">e</th>\n",
    "    <th class=\"tg-htl6\">u</th>\n",
    "    <th class=\"tg-yaja\">x</th>\n",
    "    <th class=\"tg-yaja\"></th>\n",
    "    <th class=\"tg-yaja\">A</th>\n",
    "    <th class=\"tg-yaja\">n</th>\n",
    "    <th class=\"tg-yaja\">n</th>\n",
    "    <th class=\"tg-yaja\">i</th>\n",
    "    <th class=\"tg-yaja\">v</th>\n",
    "    <th class=\"tg-yaja\">e</th>\n",
    "    <th class=\"tg-yaja\">r</th>\n",
    "    <th class=\"tg-yaja\">s</th>\n",
    "    <th class=\"tg-yaja\">a</th>\n",
    "    <th class=\"tg-yaja\">i</th>\n",
    "    <th class=\"tg-yaja\">r</th>\n",
    "    <th class=\"tg-yaja\">e</th>\n",
    "  </tr>\n",
    "  <tr>\n",
    "    <td class=\"tg-htl6\">0</td>\n",
    "    <td class=\"tg-l3hy\">1</td>\n",
    "    <td class=\"tg-htl6\">2</td>\n",
    "    <td class=\"tg-l3hy\">3</td>\n",
    "    <td class=\"tg-htl6\">4</td>\n",
    "    <td class=\"tg-adyi\">5</td>\n",
    "    <td class=\"tg-yaja\">6</td>\n",
    "    <td class=\"tg-adyi\">7</td>\n",
    "    <td class=\"tg-yaja\">8</td>\n",
    "    <td class=\"tg-adyi\">9</td>\n",
    "    <td class=\"tg-yaja\">10</td>\n",
    "    <td class=\"tg-adyi\">11</td>\n",
    "    <td class=\"tg-yaja\">12</td>\n",
    "    <td class=\"tg-adyi\">13</td>\n",
    "    <td class=\"tg-yaja\">14</td>\n",
    "    <td class=\"tg-adyi\">15</td>\n",
    "    <td class=\"tg-yaja\">16</td>\n",
    "    <td class=\"tg-adyi\">17</td>\n",
    "    <td class=\"tg-yaja\">18</td>\n",
    "  </tr>\n",
    "  <tr>\n",
    "    <td class=\"tg-htl6\">-19</td>\n",
    "    <td class=\"tg-l3hy\">-18</td>\n",
    "    <td class=\"tg-htl6\">-17</td>\n",
    "    <td class=\"tg-l3hy\">-16</td>\n",
    "    <td class=\"tg-htl6\">-15</td>\n",
    "    <td class=\"tg-adyi\">-14</td>\n",
    "    <td class=\"tg-yaja\">-13</td>\n",
    "    <td class=\"tg-adyi\">-12</td>\n",
    "    <td class=\"tg-yaja\">-11</td>\n",
    "    <td class=\"tg-adyi\">-10</td>\n",
    "    <td class=\"tg-yaja\">-9</td>\n",
    "    <td class=\"tg-adyi\">-8</td>\n",
    "    <td class=\"tg-yaja\">-7</td>\n",
    "    <td class=\"tg-adyi\">-6</td>\n",
    "    <td class=\"tg-yaja\">-5</td>\n",
    "    <td class=\"tg-adyi\">-4</td>\n",
    "    <td class=\"tg-yaja\">-3</td>\n",
    "    <td class=\"tg-adyi\">-2</td>\n",
    "    <td class=\"tg-yaja\">-1</td>\n",
    "  </tr>\n",
    "</table>"
   ]
  },
  {
   "cell_type": "markdown",
   "metadata": {},
   "source": [
    "### Les indices dans la chaîne de caractères"
   ]
  },
  {
   "cell_type": "code",
   "execution_count": 4,
   "metadata": {},
   "outputs": [
    {
     "data": {
      "text/plain": [
       "'J'"
      ]
     },
     "execution_count": 4,
     "metadata": {},
     "output_type": "execute_result"
    }
   ],
   "source": [
    "une_chaine[0]"
   ]
  },
  {
   "cell_type": "code",
   "execution_count": 5,
   "metadata": {},
   "outputs": [
    {
     "data": {
      "text/plain": [
       "'A'"
      ]
     },
     "execution_count": 5,
     "metadata": {},
     "output_type": "execute_result"
    }
   ],
   "source": [
    "une_chaine[7]"
   ]
  },
  {
   "cell_type": "markdown",
   "metadata": {},
   "source": [
    "***!!! On commence à compter à l'indice 0 !!!***"
   ]
  },
  {
   "cell_type": "code",
   "execution_count": 6,
   "metadata": {},
   "outputs": [
    {
     "data": {
      "text/plain": [
       "0"
      ]
     },
     "execution_count": 6,
     "metadata": {},
     "output_type": "execute_result"
    }
   ],
   "source": [
    "une_chaine.index(\"J\") # donne l'indice du premier J majuscule rencontré dans la chaîne"
   ]
  },
  {
   "cell_type": "code",
   "execution_count": 7,
   "metadata": {},
   "outputs": [
    {
     "data": {
      "text/plain": [
       "3"
      ]
     },
     "execution_count": 7,
     "metadata": {},
     "output_type": "execute_result"
    }
   ],
   "source": [
    "une_chaine.index(\"e\") # donne l'indice du premier e minuscule rencontré dans la chaîne"
   ]
  },
  {
   "cell_type": "code",
   "execution_count": 8,
   "metadata": {},
   "outputs": [
    {
     "data": {
      "text/plain": [
       "'e'"
      ]
     },
     "execution_count": 8,
     "metadata": {},
     "output_type": "execute_result"
    }
   ],
   "source": [
    "une_chaine[-1] # la première valeur en commençant par la fin"
   ]
  },
  {
   "cell_type": "code",
   "execution_count": 9,
   "metadata": {},
   "outputs": [
    {
     "data": {
      "text/plain": [
       "'J'"
      ]
     },
     "execution_count": 9,
     "metadata": {},
     "output_type": "execute_result"
    }
   ],
   "source": [
    "une_chaine[-19] # == une_chaine[1]"
   ]
  },
  {
   "cell_type": "code",
   "execution_count": 10,
   "metadata": {},
   "outputs": [
    {
     "data": {
      "text/plain": [
       "'J'"
      ]
     },
     "execution_count": 10,
     "metadata": {},
     "output_type": "execute_result"
    }
   ],
   "source": [
    "une_chaine [-len(une_chaine)] # Vous avez compris ?"
   ]
  },
  {
   "cell_type": "markdown",
   "metadata": {},
   "source": [
    "# Le slicing\n",
    "\n",
    "Le **_slicing_** est une méthode applicable à tous les objets de type liste ordonnée (liste ou chaîne de caractère mais pas aux dictionnaires). ll s'agit d'un \"découpage en tranches\" des éléments d'une liste de manière à récupérer des objets respectant cette découpe.\n",
    "\n",
    "Pour cela, nous devrons spécifier l'indice de l'élément de départ, l'indice de l'élément d'arrivée (qui ne sera pas compris dans la plage) et le pas de déplacement. Pour une variable v donnée, l'écriture se fera en utilisant la notation entre crochets et en séparant chacun des paramètres par le caractère deux-points: **_v[début:fin:pas]_**. Cette écriture peut se traduire par : les caractères de la variable **_v_** depuis l'indice **_début_** jusqu'à l'indice **_fin_** non compris avec un déplacement de **_pas_** caractère(s).  \n",
    "\n",
    "Pour bien comprendre le fonctionnement du slicing, nous commencerons par l'appliquer aux chaînes de caractères avant de voir les listes et les tuples."
   ]
  },
  {
   "cell_type": "code",
   "execution_count": 11,
   "metadata": {},
   "outputs": [
    {
     "data": {
      "text/plain": [
       "'oyeu'"
      ]
     },
     "execution_count": 11,
     "metadata": {},
     "output_type": "execute_result"
    }
   ],
   "source": [
    "une_chaine [1:5] # de l'indice 1 inclus à l'indice 5 exclus"
   ]
  },
  {
   "cell_type": "code",
   "execution_count": 12,
   "metadata": {},
   "outputs": [
    {
     "data": {
      "text/plain": [
       "'yeux Anniversaire'"
      ]
     },
     "execution_count": 12,
     "metadata": {},
     "output_type": "execute_result"
    }
   ],
   "source": [
    "une_chaine [2:] # de l'indice 2 inclus jusqu'à la fin"
   ]
  },
  {
   "cell_type": "code",
   "execution_count": 13,
   "metadata": {},
   "outputs": [
    {
     "data": {
      "text/plain": [
       "'Joyeux Anniversair'"
      ]
     },
     "execution_count": 13,
     "metadata": {},
     "output_type": "execute_result"
    }
   ],
   "source": [
    "une_chaine [:-1] # du début à l'indice -1 exclus"
   ]
  },
  {
   "cell_type": "code",
   "execution_count": 14,
   "metadata": {},
   "outputs": [
    {
     "data": {
      "text/plain": [
       "'eriasrevinnA xueyoJ'"
      ]
     },
     "execution_count": 14,
     "metadata": {},
     "output_type": "execute_result"
    }
   ],
   "source": [
    "une_chaine [::-1] # en partant de la fin et à l'envers vers le début"
   ]
  },
  {
   "cell_type": "code",
   "execution_count": 15,
   "metadata": {},
   "outputs": [
    {
     "data": {
      "text/plain": [
       "'Jyu niesie'"
      ]
     },
     "execution_count": 15,
     "metadata": {},
     "output_type": "execute_result"
    }
   ],
   "source": [
    "une_chaine [::2] # afficher tout par pas de 2"
   ]
  },
  {
   "cell_type": "markdown",
   "metadata": {},
   "source": [
    "### Les indices en pratique avec une boucle while"
   ]
  },
  {
   "cell_type": "code",
   "execution_count": 16,
   "metadata": {},
   "outputs": [
    {
     "name": "stdout",
     "output_type": "stream",
     "text": [
      "A l'indice 0 se trouve la lettre  J\n",
      "A l'indice 1 se trouve la lettre  o\n",
      "A l'indice 2 se trouve la lettre  y\n",
      "A l'indice 3 se trouve la lettre  e\n",
      "A l'indice 4 se trouve la lettre  u\n",
      "A l'indice 5 se trouve la lettre  x\n",
      "A l'indice 6 se trouve la lettre   \n",
      "A l'indice 7 se trouve la lettre  A\n",
      "A l'indice 8 se trouve la lettre  n\n",
      "A l'indice 9 se trouve la lettre  n\n",
      "A l'indice 10 se trouve la lettre  i\n",
      "A l'indice 11 se trouve la lettre  v\n",
      "A l'indice 12 se trouve la lettre  e\n",
      "A l'indice 13 se trouve la lettre  r\n",
      "A l'indice 14 se trouve la lettre  s\n",
      "A l'indice 15 se trouve la lettre  a\n",
      "A l'indice 16 se trouve la lettre  i\n",
      "A l'indice 17 se trouve la lettre  r\n",
      "A l'indice 18 se trouve la lettre  e\n"
     ]
    }
   ],
   "source": [
    "une_chaine = \"Joyeux Anniversaire\"\n",
    "i = 0\n",
    "while i < len (une_chaine):\n",
    "    print (\"A l'indice\", i, \"se trouve la lettre \", une_chaine[i])\n",
    "    i = i + 1"
   ]
  },
  {
   "cell_type": "markdown",
   "metadata": {},
   "source": [
    "### Parcours de chaîne avec la boucle for  "
   ]
  },
  {
   "cell_type": "code",
   "execution_count": 17,
   "metadata": {},
   "outputs": [
    {
     "name": "stdout",
     "output_type": "stream",
     "text": [
      "A l'indice 0 se trouve la lettre  J\n",
      "A l'indice 1 se trouve la lettre  o\n",
      "A l'indice 2 se trouve la lettre  y\n",
      "A l'indice 3 se trouve la lettre  e\n",
      "A l'indice 4 se trouve la lettre  u\n",
      "A l'indice 5 se trouve la lettre  x\n",
      "A l'indice 6 se trouve la lettre   \n",
      "A l'indice 7 se trouve la lettre  A\n",
      "A l'indice 8 se trouve la lettre  n\n",
      "A l'indice 9 se trouve la lettre  n\n",
      "A l'indice 10 se trouve la lettre  i\n",
      "A l'indice 11 se trouve la lettre  v\n",
      "A l'indice 12 se trouve la lettre  e\n",
      "A l'indice 13 se trouve la lettre  r\n",
      "A l'indice 14 se trouve la lettre  s\n",
      "A l'indice 15 se trouve la lettre  a\n",
      "A l'indice 16 se trouve la lettre  i\n",
      "A l'indice 17 se trouve la lettre  r\n",
      "A l'indice 18 se trouve la lettre  e\n"
     ]
    }
   ],
   "source": [
    "une_chaine = \"Joyeux Anniversaire\"\n",
    "i = 0\n",
    "for lettre in une_chaine :\n",
    "    print (\"A l'indice\", i, \"se trouve la lettre \", lettre)\n",
    "    i = i + 1"
   ]
  },
  {
   "cell_type": "markdown",
   "metadata": {},
   "source": [
    "### Script permettant de distinguer les voyelles, les consonnes et les espaces"
   ]
  },
  {
   "cell_type": "code",
   "execution_count": 18,
   "metadata": {},
   "outputs": [
    {
     "name": "stdout",
     "output_type": "stream",
     "text": [
      "J est une consonne\n",
      "o est une voyelle\n",
      "y est une voyelle\n",
      "e est une voyelle\n",
      "u est une voyelle\n",
      "x est une consonne\n",
      "  est un espace\n",
      "A est une voyelle\n",
      "n est une consonne\n",
      "n est une consonne\n",
      "i est une voyelle\n",
      "v est une consonne\n",
      "e est une voyelle\n",
      "r est une consonne\n",
      "s est une consonne\n",
      "a est une voyelle\n",
      "i est une voyelle\n",
      "r est une consonne\n",
      "e est une voyelle\n"
     ]
    }
   ],
   "source": [
    "une_chaine = \"Joyeux Anniversaire\"\n",
    "for lettre in une_chaine :\n",
    "    if lettre in \"aeiouyAEIOUY\":\n",
    "        print (lettre, \"est une voyelle\")\n",
    "    elif lettre == \" \":\n",
    "        print (lettre, \"est un espace\")\n",
    "    else :\n",
    "        print (lettre, \"est une consonne\")"
   ]
  },
  {
   "cell_type": "markdown",
   "metadata": {},
   "source": [
    "### Script permettant de compter les voyelles, les consonnes et les espaces"
   ]
  },
  {
   "cell_type": "code",
   "execution_count": 19,
   "metadata": {},
   "outputs": [
    {
     "name": "stdout",
     "output_type": "stream",
     "text": [
      "J est une consonne\n",
      "o est une voyelle\n",
      "y est une voyelle\n",
      "e est une voyelle\n",
      "u est une voyelle\n",
      "x est une consonne\n",
      "  est un espace\n",
      "A est une voyelle\n",
      "n est une consonne\n",
      "n est une consonne\n",
      "i est une voyelle\n",
      "v est une consonne\n",
      "e est une voyelle\n",
      "r est une consonne\n",
      "s est une consonne\n",
      "a est une voyelle\n",
      "i est une voyelle\n",
      "r est une consonne\n",
      "e est une voyelle\n",
      "Il y a, dans cette phrase, 10 voyelle(s), 8 consonne(s), 1 espace(s)\n"
     ]
    }
   ],
   "source": [
    "une_chaine = \"Joyeux Anniversaire\"\n",
    "compteur_voyelles = 0\n",
    "compteur_consonnes = 0\n",
    "compteur_espaces = 0\n",
    "for lettre in une_chaine :\n",
    "    if lettre in \"aeiouyAEIOUY\":\n",
    "        print (lettre, \"est une voyelle\")\n",
    "        compteur_voyelles = compteur_voyelles + 1\n",
    "    elif lettre == \" \":\n",
    "        print (lettre, \"est un espace\")\n",
    "        compteur_espaces = compteur_espaces + 1\n",
    "    else :\n",
    "        print (lettre, \"est une consonne\")\n",
    "        compteur_consonnes = compteur_consonnes + 1\n",
    "print (\"Il y a, dans cette phrase,\",compteur_voyelles,\"voyelle(s),\"\\\n",
    "       ,compteur_consonnes,\"consonne(s),\",compteur_espaces,\"espace(s)\")"
   ]
  },
  {
   "cell_type": "markdown",
   "metadata": {},
   "source": [
    "### Les méthodes de la classe str"
   ]
  },
  {
   "cell_type": "code",
   "execution_count": 20,
   "metadata": {},
   "outputs": [
    {
     "name": "stdout",
     "output_type": "stream",
     "text": [
      "Help on class str in module builtins:\n",
      "\n",
      "class str(object)\n",
      " |  str(object='') -> str\n",
      " |  str(bytes_or_buffer[, encoding[, errors]]) -> str\n",
      " |  \n",
      " |  Create a new string object from the given object. If encoding or\n",
      " |  errors is specified, then the object must expose a data buffer\n",
      " |  that will be decoded using the given encoding and error handler.\n",
      " |  Otherwise, returns the result of object.__str__() (if defined)\n",
      " |  or repr(object).\n",
      " |  encoding defaults to sys.getdefaultencoding().\n",
      " |  errors defaults to 'strict'.\n",
      " |  \n",
      " |  Methods defined here:\n",
      " |  \n",
      " |  __add__(self, value, /)\n",
      " |      Return self+value.\n",
      " |  \n",
      " |  __contains__(self, key, /)\n",
      " |      Return key in self.\n",
      " |  \n",
      " |  __eq__(self, value, /)\n",
      " |      Return self==value.\n",
      " |  \n",
      " |  __format__(self, format_spec, /)\n",
      " |      Return a formatted version of the string as described by format_spec.\n",
      " |  \n",
      " |  __ge__(self, value, /)\n",
      " |      Return self>=value.\n",
      " |  \n",
      " |  __getattribute__(self, name, /)\n",
      " |      Return getattr(self, name).\n",
      " |  \n",
      " |  __getitem__(self, key, /)\n",
      " |      Return self[key].\n",
      " |  \n",
      " |  __getnewargs__(...)\n",
      " |  \n",
      " |  __gt__(self, value, /)\n",
      " |      Return self>value.\n",
      " |  \n",
      " |  __hash__(self, /)\n",
      " |      Return hash(self).\n",
      " |  \n",
      " |  __iter__(self, /)\n",
      " |      Implement iter(self).\n",
      " |  \n",
      " |  __le__(self, value, /)\n",
      " |      Return self<=value.\n",
      " |  \n",
      " |  __len__(self, /)\n",
      " |      Return len(self).\n",
      " |  \n",
      " |  __lt__(self, value, /)\n",
      " |      Return self<value.\n",
      " |  \n",
      " |  __mod__(self, value, /)\n",
      " |      Return self%value.\n",
      " |  \n",
      " |  __mul__(self, value, /)\n",
      " |      Return self*value.\n",
      " |  \n",
      " |  __ne__(self, value, /)\n",
      " |      Return self!=value.\n",
      " |  \n",
      " |  __repr__(self, /)\n",
      " |      Return repr(self).\n",
      " |  \n",
      " |  __rmod__(self, value, /)\n",
      " |      Return value%self.\n",
      " |  \n",
      " |  __rmul__(self, value, /)\n",
      " |      Return value*self.\n",
      " |  \n",
      " |  __sizeof__(self, /)\n",
      " |      Return the size of the string in memory, in bytes.\n",
      " |  \n",
      " |  __str__(self, /)\n",
      " |      Return str(self).\n",
      " |  \n",
      " |  capitalize(self, /)\n",
      " |      Return a capitalized version of the string.\n",
      " |      \n",
      " |      More specifically, make the first character have upper case and the rest lower\n",
      " |      case.\n",
      " |  \n",
      " |  casefold(self, /)\n",
      " |      Return a version of the string suitable for caseless comparisons.\n",
      " |  \n",
      " |  center(self, width, fillchar=' ', /)\n",
      " |      Return a centered string of length width.\n",
      " |      \n",
      " |      Padding is done using the specified fill character (default is a space).\n",
      " |  \n",
      " |  count(...)\n",
      " |      S.count(sub[, start[, end]]) -> int\n",
      " |      \n",
      " |      Return the number of non-overlapping occurrences of substring sub in\n",
      " |      string S[start:end].  Optional arguments start and end are\n",
      " |      interpreted as in slice notation.\n",
      " |  \n",
      " |  encode(self, /, encoding='utf-8', errors='strict')\n",
      " |      Encode the string using the codec registered for encoding.\n",
      " |      \n",
      " |      encoding\n",
      " |        The encoding in which to encode the string.\n",
      " |      errors\n",
      " |        The error handling scheme to use for encoding errors.\n",
      " |        The default is 'strict' meaning that encoding errors raise a\n",
      " |        UnicodeEncodeError.  Other possible values are 'ignore', 'replace' and\n",
      " |        'xmlcharrefreplace' as well as any other name registered with\n",
      " |        codecs.register_error that can handle UnicodeEncodeErrors.\n",
      " |  \n",
      " |  endswith(...)\n",
      " |      S.endswith(suffix[, start[, end]]) -> bool\n",
      " |      \n",
      " |      Return True if S ends with the specified suffix, False otherwise.\n",
      " |      With optional start, test S beginning at that position.\n",
      " |      With optional end, stop comparing S at that position.\n",
      " |      suffix can also be a tuple of strings to try.\n",
      " |  \n",
      " |  expandtabs(self, /, tabsize=8)\n",
      " |      Return a copy where all tab characters are expanded using spaces.\n",
      " |      \n",
      " |      If tabsize is not given, a tab size of 8 characters is assumed.\n",
      " |  \n",
      " |  find(...)\n",
      " |      S.find(sub[, start[, end]]) -> int\n",
      " |      \n",
      " |      Return the lowest index in S where substring sub is found,\n",
      " |      such that sub is contained within S[start:end].  Optional\n",
      " |      arguments start and end are interpreted as in slice notation.\n",
      " |      \n",
      " |      Return -1 on failure.\n",
      " |  \n",
      " |  format(...)\n",
      " |      S.format(*args, **kwargs) -> str\n",
      " |      \n",
      " |      Return a formatted version of S, using substitutions from args and kwargs.\n",
      " |      The substitutions are identified by braces ('{' and '}').\n",
      " |  \n",
      " |  format_map(...)\n",
      " |      S.format_map(mapping) -> str\n",
      " |      \n",
      " |      Return a formatted version of S, using substitutions from mapping.\n",
      " |      The substitutions are identified by braces ('{' and '}').\n",
      " |  \n",
      " |  index(...)\n",
      " |      S.index(sub[, start[, end]]) -> int\n",
      " |      \n",
      " |      Return the lowest index in S where substring sub is found, \n",
      " |      such that sub is contained within S[start:end].  Optional\n",
      " |      arguments start and end are interpreted as in slice notation.\n",
      " |      \n",
      " |      Raises ValueError when the substring is not found.\n",
      " |  \n",
      " |  isalnum(self, /)\n",
      " |      Return True if the string is an alpha-numeric string, False otherwise.\n",
      " |      \n",
      " |      A string is alpha-numeric if all characters in the string are alpha-numeric and\n",
      " |      there is at least one character in the string.\n",
      " |  \n",
      " |  isalpha(self, /)\n",
      " |      Return True if the string is an alphabetic string, False otherwise.\n",
      " |      \n",
      " |      A string is alphabetic if all characters in the string are alphabetic and there\n",
      " |      is at least one character in the string.\n",
      " |  \n",
      " |  isascii(self, /)\n",
      " |      Return True if all characters in the string are ASCII, False otherwise.\n",
      " |      \n",
      " |      ASCII characters have code points in the range U+0000-U+007F.\n",
      " |      Empty string is ASCII too.\n",
      " |  \n",
      " |  isdecimal(self, /)\n",
      " |      Return True if the string is a decimal string, False otherwise.\n",
      " |      \n",
      " |      A string is a decimal string if all characters in the string are decimal and\n",
      " |      there is at least one character in the string.\n",
      " |  \n",
      " |  isdigit(self, /)\n",
      " |      Return True if the string is a digit string, False otherwise.\n",
      " |      \n",
      " |      A string is a digit string if all characters in the string are digits and there\n",
      " |      is at least one character in the string.\n",
      " |  \n",
      " |  isidentifier(self, /)\n",
      " |      Return True if the string is a valid Python identifier, False otherwise.\n",
      " |      \n",
      " |      Use keyword.iskeyword() to test for reserved identifiers such as \"def\" and\n",
      " |      \"class\".\n",
      " |  \n",
      " |  islower(self, /)\n",
      " |      Return True if the string is a lowercase string, False otherwise.\n",
      " |      \n",
      " |      A string is lowercase if all cased characters in the string are lowercase and\n",
      " |      there is at least one cased character in the string.\n",
      " |  \n",
      " |  isnumeric(self, /)\n",
      " |      Return True if the string is a numeric string, False otherwise.\n",
      " |      \n",
      " |      A string is numeric if all characters in the string are numeric and there is at\n",
      " |      least one character in the string.\n",
      " |  \n",
      " |  isprintable(self, /)\n",
      " |      Return True if the string is printable, False otherwise.\n",
      " |      \n",
      " |      A string is printable if all of its characters are considered printable in\n",
      " |      repr() or if it is empty.\n",
      " |  \n",
      " |  isspace(self, /)\n",
      " |      Return True if the string is a whitespace string, False otherwise.\n",
      " |      \n",
      " |      A string is whitespace if all characters in the string are whitespace and there\n",
      " |      is at least one character in the string.\n",
      " |  \n",
      " |  istitle(self, /)\n",
      " |      Return True if the string is a title-cased string, False otherwise.\n",
      " |      \n",
      " |      In a title-cased string, upper- and title-case characters may only\n",
      " |      follow uncased characters and lowercase characters only cased ones.\n",
      " |  \n",
      " |  isupper(self, /)\n",
      " |      Return True if the string is an uppercase string, False otherwise.\n",
      " |      \n",
      " |      A string is uppercase if all cased characters in the string are uppercase and\n",
      " |      there is at least one cased character in the string.\n",
      " |  \n",
      " |  join(self, iterable, /)\n",
      " |      Concatenate any number of strings.\n",
      " |      \n",
      " |      The string whose method is called is inserted in between each given string.\n",
      " |      The result is returned as a new string.\n",
      " |      \n",
      " |      Example: '.'.join(['ab', 'pq', 'rs']) -> 'ab.pq.rs'\n",
      " |  \n",
      " |  ljust(self, width, fillchar=' ', /)\n",
      " |      Return a left-justified string of length width.\n",
      " |      \n",
      " |      Padding is done using the specified fill character (default is a space).\n",
      " |  \n",
      " |  lower(self, /)\n",
      " |      Return a copy of the string converted to lowercase.\n",
      " |  \n",
      " |  lstrip(self, chars=None, /)\n",
      " |      Return a copy of the string with leading whitespace removed.\n",
      " |      \n",
      " |      If chars is given and not None, remove characters in chars instead.\n",
      " |  \n",
      " |  partition(self, sep, /)\n",
      " |      Partition the string into three parts using the given separator.\n",
      " |      \n",
      " |      This will search for the separator in the string.  If the separator is found,\n",
      " |      returns a 3-tuple containing the part before the separator, the separator\n",
      " |      itself, and the part after it.\n",
      " |      \n",
      " |      If the separator is not found, returns a 3-tuple containing the original string\n",
      " |      and two empty strings.\n",
      " |  \n",
      " |  replace(self, old, new, count=-1, /)\n",
      " |      Return a copy with all occurrences of substring old replaced by new.\n",
      " |      \n",
      " |        count\n",
      " |          Maximum number of occurrences to replace.\n",
      " |          -1 (the default value) means replace all occurrences.\n",
      " |      \n",
      " |      If the optional argument count is given, only the first count occurrences are\n",
      " |      replaced.\n",
      " |  \n",
      " |  rfind(...)\n",
      " |      S.rfind(sub[, start[, end]]) -> int\n",
      " |      \n",
      " |      Return the highest index in S where substring sub is found,\n",
      " |      such that sub is contained within S[start:end].  Optional\n",
      " |      arguments start and end are interpreted as in slice notation.\n",
      " |      \n",
      " |      Return -1 on failure.\n",
      " |  \n",
      " |  rindex(...)\n",
      " |      S.rindex(sub[, start[, end]]) -> int\n",
      " |      \n",
      " |      Return the highest index in S where substring sub is found,\n",
      " |      such that sub is contained within S[start:end].  Optional\n",
      " |      arguments start and end are interpreted as in slice notation.\n",
      " |      \n",
      " |      Raises ValueError when the substring is not found.\n",
      " |  \n",
      " |  rjust(self, width, fillchar=' ', /)\n",
      " |      Return a right-justified string of length width.\n",
      " |      \n",
      " |      Padding is done using the specified fill character (default is a space).\n",
      " |  \n",
      " |  rpartition(self, sep, /)\n",
      " |      Partition the string into three parts using the given separator.\n",
      " |      \n",
      " |      This will search for the separator in the string, starting at the end. If\n",
      " |      the separator is found, returns a 3-tuple containing the part before the\n",
      " |      separator, the separator itself, and the part after it.\n",
      " |      \n",
      " |      If the separator is not found, returns a 3-tuple containing two empty strings\n",
      " |      and the original string.\n",
      " |  \n",
      " |  rsplit(self, /, sep=None, maxsplit=-1)\n",
      " |      Return a list of the words in the string, using sep as the delimiter string.\n",
      " |      \n",
      " |        sep\n",
      " |          The delimiter according which to split the string.\n",
      " |          None (the default value) means split according to any whitespace,\n",
      " |          and discard empty strings from the result.\n",
      " |        maxsplit\n",
      " |          Maximum number of splits to do.\n",
      " |          -1 (the default value) means no limit.\n",
      " |      \n",
      " |      Splits are done starting at the end of the string and working to the front.\n",
      " |  \n",
      " |  rstrip(self, chars=None, /)\n",
      " |      Return a copy of the string with trailing whitespace removed.\n",
      " |      \n",
      " |      If chars is given and not None, remove characters in chars instead.\n",
      " |  \n",
      " |  split(self, /, sep=None, maxsplit=-1)\n",
      " |      Return a list of the words in the string, using sep as the delimiter string.\n",
      " |      \n",
      " |      sep\n",
      " |        The delimiter according which to split the string.\n",
      " |        None (the default value) means split according to any whitespace,\n",
      " |        and discard empty strings from the result.\n",
      " |      maxsplit\n",
      " |        Maximum number of splits to do.\n",
      " |        -1 (the default value) means no limit.\n",
      " |  \n",
      " |  splitlines(self, /, keepends=False)\n",
      " |      Return a list of the lines in the string, breaking at line boundaries.\n",
      " |      \n",
      " |      Line breaks are not included in the resulting list unless keepends is given and\n",
      " |      true.\n",
      " |  \n",
      " |  startswith(...)\n",
      " |      S.startswith(prefix[, start[, end]]) -> bool\n",
      " |      \n",
      " |      Return True if S starts with the specified prefix, False otherwise.\n",
      " |      With optional start, test S beginning at that position.\n",
      " |      With optional end, stop comparing S at that position.\n",
      " |      prefix can also be a tuple of strings to try.\n",
      " |  \n",
      " |  strip(self, chars=None, /)\n",
      " |      Return a copy of the string with leading and trailing whitespace remove.\n",
      " |      \n",
      " |      If chars is given and not None, remove characters in chars instead.\n",
      " |  \n",
      " |  swapcase(self, /)\n",
      " |      Convert uppercase characters to lowercase and lowercase characters to uppercase.\n",
      " |  \n",
      " |  title(self, /)\n",
      " |      Return a version of the string where each word is titlecased.\n",
      " |      \n",
      " |      More specifically, words start with uppercased characters and all remaining\n",
      " |      cased characters have lower case.\n",
      " |  \n",
      " |  translate(self, table, /)\n",
      " |      Replace each character in the string using the given translation table.\n",
      " |      \n",
      " |        table\n",
      " |          Translation table, which must be a mapping of Unicode ordinals to\n",
      " |          Unicode ordinals, strings, or None.\n",
      " |      \n",
      " |      The table must implement lookup/indexing via __getitem__, for instance a\n",
      " |      dictionary or list.  If this operation raises LookupError, the character is\n",
      " |      left untouched.  Characters mapped to None are deleted.\n",
      " |  \n",
      " |  upper(self, /)\n",
      " |      Return a copy of the string converted to uppercase.\n",
      " |  \n",
      " |  zfill(self, width, /)\n",
      " |      Pad a numeric string with zeros on the left, to fill a field of the given width.\n",
      " |      \n",
      " |      The string is never truncated.\n",
      " |  \n",
      " |  ----------------------------------------------------------------------\n",
      " |  Static methods defined here:\n",
      " |  \n",
      " |  __new__(*args, **kwargs) from builtins.type\n",
      " |      Create and return a new object.  See help(type) for accurate signature.\n",
      " |  \n",
      " |  maketrans(x, y=None, z=None, /)\n",
      " |      Return a translation table usable for str.translate().\n",
      " |      \n",
      " |      If there is only one argument, it must be a dictionary mapping Unicode\n",
      " |      ordinals (integers) or characters to Unicode ordinals, strings or None.\n",
      " |      Character keys will be then converted to ordinals.\n",
      " |      If there are two arguments, they must be strings of equal length, and\n",
      " |      in the resulting dictionary, each character in x will be mapped to the\n",
      " |      character at the same position in y. If there is a third argument, it\n",
      " |      must be a string, whose characters will be mapped to None in the result.\n",
      "\n"
     ]
    }
   ],
   "source": [
    "help (\"str\")"
   ]
  },
  {
   "cell_type": "code",
   "execution_count": 21,
   "metadata": {},
   "outputs": [
    {
     "name": "stdout",
     "output_type": "stream",
     "text": [
      "HELLO\n"
     ]
    }
   ],
   "source": [
    "ma_chaine = \"HELLO\"\n",
    "print (ma_chaine)"
   ]
  },
  {
   "cell_type": "code",
   "execution_count": 22,
   "metadata": {},
   "outputs": [
    {
     "data": {
      "text/plain": [
       "'hello'"
      ]
     },
     "execution_count": 22,
     "metadata": {},
     "output_type": "execute_result"
    }
   ],
   "source": [
    "ma_chaine.lower ()"
   ]
  },
  {
   "cell_type": "code",
   "execution_count": 23,
   "metadata": {},
   "outputs": [
    {
     "name": "stdout",
     "output_type": "stream",
     "text": [
      "hello\n"
     ]
    }
   ],
   "source": [
    "ma_chaine_2 = \"hello\"\n",
    "print (ma_chaine_2)"
   ]
  },
  {
   "cell_type": "code",
   "execution_count": 24,
   "metadata": {},
   "outputs": [
    {
     "data": {
      "text/plain": [
       "'HELLO'"
      ]
     },
     "execution_count": 24,
     "metadata": {},
     "output_type": "execute_result"
    }
   ],
   "source": [
    "ma_chaine_2.upper ()"
   ]
  },
  {
   "cell_type": "code",
   "execution_count": 25,
   "metadata": {},
   "outputs": [
    {
     "data": {
      "text/plain": [
       "'Hello'"
      ]
     },
     "execution_count": 25,
     "metadata": {},
     "output_type": "execute_result"
    }
   ],
   "source": [
    "ma_chaine_2.capitalize ()"
   ]
  },
  {
   "cell_type": "code",
   "execution_count": 26,
   "metadata": {},
   "outputs": [
    {
     "name": "stdout",
     "output_type": "stream",
     "text": [
      "   HELLO   \n"
     ]
    }
   ],
   "source": [
    "ma_chaine_3 = \"   HELLO   \"\n",
    "print (ma_chaine_3)"
   ]
  },
  {
   "cell_type": "code",
   "execution_count": 27,
   "metadata": {},
   "outputs": [
    {
     "data": {
      "text/plain": [
       "'HELLO'"
      ]
     },
     "execution_count": 27,
     "metadata": {},
     "output_type": "execute_result"
    }
   ],
   "source": [
    "ma_chaine_3.strip ()"
   ]
  },
  {
   "cell_type": "code",
   "execution_count": 28,
   "metadata": {},
   "outputs": [
    {
     "data": {
      "text/plain": [
       "'                 HELLO                  '"
      ]
     },
     "execution_count": 28,
     "metadata": {},
     "output_type": "execute_result"
    }
   ],
   "source": [
    "ma_chaine_3.strip ().center (40)"
   ]
  },
  {
   "cell_type": "markdown",
   "metadata": {},
   "source": [
    "Il existe de nombreuse méthode pour les chaînes de caratères.\n",
    "tapez alors juste ***ma_chaine. (n'oubliez pas le point) puis appuyez sur la tabulation***, vous devez voir toutes les méthodes.\n",
    "\n",
    "|a | b | c | d |\n",
    "| :-----------: | :----------:|:-----------:|:-----------:|\n",
    "|x.capitalize | x.isalnum      |    x.join      |    x.rsplit |\n",
    "|x.casefold   |   x.isalpha     |  x.ljust        | x.rstrip |\n",
    "|x.center     |   x.isdecimal   |  x.lower       |  x.split|\n",
    "|x.count      |   x.isdigit     |  x.lstrip      |  x.splitlines |\n",
    "|x.encode     |   x.isidentifier |  x.maketrans   |  x.startswith |\n",
    "|x.endswith   |   x.islower     |  x.partition   |  x.strip |\n",
    "|x.expandtabs |   x.isnumeric   |  x.replace     |  x.swapcase|\n",
    "|x.find       |   x.isprintable |  x.rfind       |  x.title|\n",
    "|x.format     |   x.isspace     |  x.rindex      |  x.translate|\n",
    "|x.format_map |   x.istitle     |  x.rjust       |  x.upper|\n",
    "|x.index      |   x.isupper     |  x.rpartition  |  x.zfill|"
   ]
  },
  {
   "cell_type": "code",
   "execution_count": null,
   "metadata": {
    "collapsed": true
   },
   "outputs": [],
   "source": [
    "ma_chaine."
   ]
  },
  {
   "cell_type": "code",
   "execution_count": 29,
   "metadata": {},
   "outputs": [
    {
     "name": "stdout",
     "output_type": "stream",
     "text": [
      "0\n",
      "-1\n"
     ]
    }
   ],
   "source": [
    "print(ma_chaine.count('e'))  #on indique le nombre de fois où le caractère e apparaît dans la chaîne\n",
    "print(ma_chaine.find('n'))   #on cherche l'indice de la première occurence du caractère v"
   ]
  },
  {
   "cell_type": "markdown",
   "metadata": {},
   "source": [
    "On peut choisir un caractère au hasard dans la chaîne, avec le module **random** et la fonction **choice()** :"
   ]
  },
  {
   "cell_type": "code",
   "execution_count": 30,
   "metadata": {},
   "outputs": [
    {
     "data": {
      "text/plain": [
       "'E'"
      ]
     },
     "execution_count": 30,
     "metadata": {},
     "output_type": "execute_result"
    }
   ],
   "source": [
    "from random import choice  #on importe seulement la fonction choice !\n",
    "choice(ma_chaine)"
   ]
  },
  {
   "cell_type": "markdown",
   "metadata": {},
   "source": [
    "### Une chaîne de caractères est immutable (non modifiable) !!!!"
   ]
  },
  {
   "cell_type": "code",
   "execution_count": 31,
   "metadata": {},
   "outputs": [],
   "source": [
    "une_chaine = (\"paris\")"
   ]
  },
  {
   "cell_type": "code",
   "execution_count": 32,
   "metadata": {},
   "outputs": [
    {
     "data": {
      "text/plain": [
       "'p'"
      ]
     },
     "execution_count": 32,
     "metadata": {},
     "output_type": "execute_result"
    }
   ],
   "source": [
    "une_chaine[0]"
   ]
  },
  {
   "cell_type": "code",
   "execution_count": 33,
   "metadata": {},
   "outputs": [
    {
     "ename": "TypeError",
     "evalue": "'str' object does not support item assignment",
     "output_type": "error",
     "traceback": [
      "\u001b[1;31m---------------------------------------------------------------------------\u001b[0m",
      "\u001b[1;31mTypeError\u001b[0m                                 Traceback (most recent call last)",
      "\u001b[1;32m<ipython-input-33-aa17dfd83dc3>\u001b[0m in \u001b[0;36m<module>\u001b[1;34m()\u001b[0m\n\u001b[1;32m----> 1\u001b[1;33m \u001b[0mune_chaine\u001b[0m\u001b[1;33m[\u001b[0m\u001b[1;36m0\u001b[0m\u001b[1;33m]\u001b[0m \u001b[1;33m=\u001b[0m \u001b[1;34m\"m\"\u001b[0m \u001b[1;31m# ne fonctionne évidemment pas !\u001b[0m\u001b[1;33m\u001b[0m\u001b[1;33m\u001b[0m\u001b[0m\n\u001b[0m",
      "\u001b[1;31mTypeError\u001b[0m: 'str' object does not support item assignment"
     ]
    }
   ],
   "source": [
    "une_chaine[0] = \"m\" # ne fonctionne évidemment pas ! "
   ]
  },
  {
   "cell_type": "code",
   "execution_count": 34,
   "metadata": {},
   "outputs": [],
   "source": [
    "une_chaine_2 = \"m\" + une_chaine [1:]"
   ]
  },
  {
   "cell_type": "code",
   "execution_count": 35,
   "metadata": {},
   "outputs": [
    {
     "data": {
      "text/plain": [
       "'maris'"
      ]
     },
     "execution_count": 35,
     "metadata": {},
     "output_type": "execute_result"
    }
   ],
   "source": [
    "une_chaine_2"
   ]
  },
  {
   "cell_type": "markdown",
   "metadata": {},
   "source": [
    "><h2 class='fa fa-code' style=\"color: purple\"> A coder vous même :</h2>\n",
    ">\n",
    "> **Ecrire** un script qui recopie une chaîne (dans une nouvelle variable), en insérant des `§` entre les caractères.\n"
   ]
  },
  {
   "cell_type": "code",
   "execution_count": 1,
   "metadata": {},
   "outputs": [
    {
     "name": "stdout",
     "output_type": "stream",
     "text": [
      "toto\n"
     ]
    },
    {
     "data": {
      "text/plain": [
       "'t§o§t§o§'"
      ]
     },
     "execution_count": 1,
     "metadata": {},
     "output_type": "execute_result"
    }
   ],
   "source": [
    "maChaineAvant = input()\n",
    "maChaineApres = \"\"\n",
    "\n",
    "for lettre in maChaineAvant :\n",
    "    \n",
    "    maChaineApres += lettre + \"§\"\n",
    "    \n",
    "maChaineApres    "
   ]
  },
  {
   "cell_type": "code",
   "execution_count": 3,
   "metadata": {},
   "outputs": [],
   "source": [
    "def modifie_chaine(maChaineAvant) :\n",
    "    \n",
    "    maChaineApres = \"\"\n",
    "    \n",
    "    for lettre in maChaineAvant :\n",
    "        \n",
    "        maChaineApres += lettre + \"§\"\n",
    "        \n",
    "    return maChaineApres"
   ]
  },
  {
   "cell_type": "code",
   "execution_count": 5,
   "metadata": {},
   "outputs": [
    {
     "data": {
      "text/plain": [
       "'t§o§t§o§'"
      ]
     },
     "execution_count": 5,
     "metadata": {},
     "output_type": "execute_result"
    }
   ],
   "source": [
    "modifie_chaine('toto')"
   ]
  },
  {
   "cell_type": "code",
   "execution_count": 6,
   "metadata": {},
   "outputs": [
    {
     "data": {
      "text/plain": [
       "'B§o§n§j§o§u§r§'"
      ]
     },
     "execution_count": 6,
     "metadata": {},
     "output_type": "execute_result"
    }
   ],
   "source": [
    "modifie_chaine('Bonjour')"
   ]
  },
  {
   "cell_type": "markdown",
   "metadata": {},
   "source": [
    "## Revisite en HTML et CSS du tableau des caractères ASCII imprimables avec leurs codes decimal et hexadécimal respectifs"
   ]
  },
  {
   "cell_type": "code",
   "execution_count": 90,
   "metadata": {},
   "outputs": [
    {
     "data": {
      "text/plain": [
       "'0x41'"
      ]
     },
     "execution_count": 90,
     "metadata": {},
     "output_type": "execute_result"
    }
   ],
   "source": [
    "hex(65)"
   ]
  },
  {
   "cell_type": "code",
   "execution_count": 91,
   "metadata": {},
   "outputs": [
    {
     "data": {
      "text/plain": [
       "'x41'"
      ]
     },
     "execution_count": 91,
     "metadata": {},
     "output_type": "execute_result"
    }
   ],
   "source": [
    "hex(65)[1:]"
   ]
  },
  {
   "cell_type": "code",
   "execution_count": 92,
   "metadata": {},
   "outputs": [
    {
     "name": "stdout",
     "output_type": "stream",
     "text": [
      "\\x41\n"
     ]
    }
   ],
   "source": [
    "print('\\x5c' + (hex(65)[1:]))"
   ]
  },
  {
   "cell_type": "code",
   "execution_count": 7,
   "metadata": {},
   "outputs": [
    {
     "data": {
      "text/html": [
       "\n",
       "<style type=\"text/css\">\n",
       ".tg  {border-collapse:collapse;border-spacing:0;border-color:#aabcfe;margin:0px auto;}\n",
       ".tg td{font-family:Arial, sans-serif;font-size:14px;padding:12px 12px;border-style:solid;border-width:1px;overflow:hidden;word-break:normal;border-color:#aabcfe;color:#669;background-color:#e8edff;}\n",
       ".tg th{font-family:Arial, sans-serif;font-size:14px;font-weight:normal;padding:12px 12px;border-style:solid;border-width:1px;overflow:hidden;word-break:normal;border-color:#aabcfe;color:#039;background-color:#b9c9fe;}\n",
       ".tg .tg-c9kt{font-size:16px;font-family:\"Comic Sans MS\", cursive, sans-serif !important;;text-align:left;vertical-align:middle}\n",
       ".tg .tg-sd90{font-weight:bold;font-size:16px;font-family:\"Comic Sans MS\", cursive, sans-serif !important;;text-align:left;vertical-align:middle}\n",
       ".tg .tg-nyir{background-color:#D2E4FC;font-size:16px;font-family:\"Comic Sans MS\", cursive, sans-serif !important;;text-align:left;vertical-align:middle}\n",
       "</style>\n",
       "\n",
       "<table class=\"tg\">\n",
       "    <thead>\n",
       "        <th class=\"tg-sd90\">Code décimal</th>\n",
       "        <th class=\"tg-sd90\">Caractère</th>\n",
       "        <th class=\"tg-sd90\">Code hexadécimal</th>\n",
       "    </thead>\n",
       "    <tbody>\n",
       "<tr><td class=\"tg-nyir\">chr(32)</td><td class=\"tg-nyir\"> </td><td class=\"tg-nyir\">\\x20</td></tr><tr><td class=\"tg-c9kt\">chr(33)</td><td class=\"tg-c9kt\">!</td><td class=\"tg-c9kt\">\\x21</td></tr><tr><td class=\"tg-nyir\">chr(34)</td><td class=\"tg-nyir\">\"</td><td class=\"tg-nyir\">\\x22</td></tr><tr><td class=\"tg-c9kt\">chr(35)</td><td class=\"tg-c9kt\">#</td><td class=\"tg-c9kt\">\\x23</td></tr><tr><td class=\"tg-nyir\">chr(36)</td><td class=\"tg-nyir\">$</td><td class=\"tg-nyir\">\\x24</td></tr><tr><td class=\"tg-c9kt\">chr(37)</td><td class=\"tg-c9kt\">%</td><td class=\"tg-c9kt\">\\x25</td></tr><tr><td class=\"tg-nyir\">chr(38)</td><td class=\"tg-nyir\">&</td><td class=\"tg-nyir\">\\x26</td></tr><tr><td class=\"tg-c9kt\">chr(39)</td><td class=\"tg-c9kt\">'</td><td class=\"tg-c9kt\">\\x27</td></tr><tr><td class=\"tg-nyir\">chr(40)</td><td class=\"tg-nyir\">(</td><td class=\"tg-nyir\">\\x28</td></tr><tr><td class=\"tg-c9kt\">chr(41)</td><td class=\"tg-c9kt\">)</td><td class=\"tg-c9kt\">\\x29</td></tr><tr><td class=\"tg-nyir\">chr(42)</td><td class=\"tg-nyir\">*</td><td class=\"tg-nyir\">\\x2a</td></tr><tr><td class=\"tg-c9kt\">chr(43)</td><td class=\"tg-c9kt\">+</td><td class=\"tg-c9kt\">\\x2b</td></tr><tr><td class=\"tg-nyir\">chr(44)</td><td class=\"tg-nyir\">,</td><td class=\"tg-nyir\">\\x2c</td></tr><tr><td class=\"tg-c9kt\">chr(45)</td><td class=\"tg-c9kt\">-</td><td class=\"tg-c9kt\">\\x2d</td></tr><tr><td class=\"tg-nyir\">chr(46)</td><td class=\"tg-nyir\">.</td><td class=\"tg-nyir\">\\x2e</td></tr><tr><td class=\"tg-c9kt\">chr(47)</td><td class=\"tg-c9kt\">/</td><td class=\"tg-c9kt\">\\x2f</td></tr><tr><td class=\"tg-nyir\">chr(48)</td><td class=\"tg-nyir\">0</td><td class=\"tg-nyir\">\\x30</td></tr><tr><td class=\"tg-c9kt\">chr(49)</td><td class=\"tg-c9kt\">1</td><td class=\"tg-c9kt\">\\x31</td></tr><tr><td class=\"tg-nyir\">chr(50)</td><td class=\"tg-nyir\">2</td><td class=\"tg-nyir\">\\x32</td></tr><tr><td class=\"tg-c9kt\">chr(51)</td><td class=\"tg-c9kt\">3</td><td class=\"tg-c9kt\">\\x33</td></tr><tr><td class=\"tg-nyir\">chr(52)</td><td class=\"tg-nyir\">4</td><td class=\"tg-nyir\">\\x34</td></tr><tr><td class=\"tg-c9kt\">chr(53)</td><td class=\"tg-c9kt\">5</td><td class=\"tg-c9kt\">\\x35</td></tr><tr><td class=\"tg-nyir\">chr(54)</td><td class=\"tg-nyir\">6</td><td class=\"tg-nyir\">\\x36</td></tr><tr><td class=\"tg-c9kt\">chr(55)</td><td class=\"tg-c9kt\">7</td><td class=\"tg-c9kt\">\\x37</td></tr><tr><td class=\"tg-nyir\">chr(56)</td><td class=\"tg-nyir\">8</td><td class=\"tg-nyir\">\\x38</td></tr><tr><td class=\"tg-c9kt\">chr(57)</td><td class=\"tg-c9kt\">9</td><td class=\"tg-c9kt\">\\x39</td></tr><tr><td class=\"tg-nyir\">chr(58)</td><td class=\"tg-nyir\">:</td><td class=\"tg-nyir\">\\x3a</td></tr><tr><td class=\"tg-c9kt\">chr(59)</td><td class=\"tg-c9kt\">;</td><td class=\"tg-c9kt\">\\x3b</td></tr><tr><td class=\"tg-nyir\">chr(60)</td><td class=\"tg-nyir\"><</td><td class=\"tg-nyir\">\\x3c</td></tr><tr><td class=\"tg-c9kt\">chr(61)</td><td class=\"tg-c9kt\">=</td><td class=\"tg-c9kt\">\\x3d</td></tr><tr><td class=\"tg-nyir\">chr(62)</td><td class=\"tg-nyir\">></td><td class=\"tg-nyir\">\\x3e</td></tr><tr><td class=\"tg-c9kt\">chr(63)</td><td class=\"tg-c9kt\">?</td><td class=\"tg-c9kt\">\\x3f</td></tr><tr><td class=\"tg-nyir\">chr(64)</td><td class=\"tg-nyir\">@</td><td class=\"tg-nyir\">\\x40</td></tr><tr><td class=\"tg-c9kt\">chr(65)</td><td class=\"tg-c9kt\">A</td><td class=\"tg-c9kt\">\\x41</td></tr><tr><td class=\"tg-nyir\">chr(66)</td><td class=\"tg-nyir\">B</td><td class=\"tg-nyir\">\\x42</td></tr><tr><td class=\"tg-c9kt\">chr(67)</td><td class=\"tg-c9kt\">C</td><td class=\"tg-c9kt\">\\x43</td></tr><tr><td class=\"tg-nyir\">chr(68)</td><td class=\"tg-nyir\">D</td><td class=\"tg-nyir\">\\x44</td></tr><tr><td class=\"tg-c9kt\">chr(69)</td><td class=\"tg-c9kt\">E</td><td class=\"tg-c9kt\">\\x45</td></tr><tr><td class=\"tg-nyir\">chr(70)</td><td class=\"tg-nyir\">F</td><td class=\"tg-nyir\">\\x46</td></tr><tr><td class=\"tg-c9kt\">chr(71)</td><td class=\"tg-c9kt\">G</td><td class=\"tg-c9kt\">\\x47</td></tr><tr><td class=\"tg-nyir\">chr(72)</td><td class=\"tg-nyir\">H</td><td class=\"tg-nyir\">\\x48</td></tr><tr><td class=\"tg-c9kt\">chr(73)</td><td class=\"tg-c9kt\">I</td><td class=\"tg-c9kt\">\\x49</td></tr><tr><td class=\"tg-nyir\">chr(74)</td><td class=\"tg-nyir\">J</td><td class=\"tg-nyir\">\\x4a</td></tr><tr><td class=\"tg-c9kt\">chr(75)</td><td class=\"tg-c9kt\">K</td><td class=\"tg-c9kt\">\\x4b</td></tr><tr><td class=\"tg-nyir\">chr(76)</td><td class=\"tg-nyir\">L</td><td class=\"tg-nyir\">\\x4c</td></tr><tr><td class=\"tg-c9kt\">chr(77)</td><td class=\"tg-c9kt\">M</td><td class=\"tg-c9kt\">\\x4d</td></tr><tr><td class=\"tg-nyir\">chr(78)</td><td class=\"tg-nyir\">N</td><td class=\"tg-nyir\">\\x4e</td></tr><tr><td class=\"tg-c9kt\">chr(79)</td><td class=\"tg-c9kt\">O</td><td class=\"tg-c9kt\">\\x4f</td></tr><tr><td class=\"tg-nyir\">chr(80)</td><td class=\"tg-nyir\">P</td><td class=\"tg-nyir\">\\x50</td></tr><tr><td class=\"tg-c9kt\">chr(81)</td><td class=\"tg-c9kt\">Q</td><td class=\"tg-c9kt\">\\x51</td></tr><tr><td class=\"tg-nyir\">chr(82)</td><td class=\"tg-nyir\">R</td><td class=\"tg-nyir\">\\x52</td></tr><tr><td class=\"tg-c9kt\">chr(83)</td><td class=\"tg-c9kt\">S</td><td class=\"tg-c9kt\">\\x53</td></tr><tr><td class=\"tg-nyir\">chr(84)</td><td class=\"tg-nyir\">T</td><td class=\"tg-nyir\">\\x54</td></tr><tr><td class=\"tg-c9kt\">chr(85)</td><td class=\"tg-c9kt\">U</td><td class=\"tg-c9kt\">\\x55</td></tr><tr><td class=\"tg-nyir\">chr(86)</td><td class=\"tg-nyir\">V</td><td class=\"tg-nyir\">\\x56</td></tr><tr><td class=\"tg-c9kt\">chr(87)</td><td class=\"tg-c9kt\">W</td><td class=\"tg-c9kt\">\\x57</td></tr><tr><td class=\"tg-nyir\">chr(88)</td><td class=\"tg-nyir\">X</td><td class=\"tg-nyir\">\\x58</td></tr><tr><td class=\"tg-c9kt\">chr(89)</td><td class=\"tg-c9kt\">Y</td><td class=\"tg-c9kt\">\\x59</td></tr><tr><td class=\"tg-nyir\">chr(90)</td><td class=\"tg-nyir\">Z</td><td class=\"tg-nyir\">\\x5a</td></tr><tr><td class=\"tg-c9kt\">chr(91)</td><td class=\"tg-c9kt\">[</td><td class=\"tg-c9kt\">\\x5b</td></tr><tr><td class=\"tg-nyir\">chr(92)</td><td class=\"tg-nyir\">\\</td><td class=\"tg-nyir\">\\x5c</td></tr><tr><td class=\"tg-c9kt\">chr(93)</td><td class=\"tg-c9kt\">]</td><td class=\"tg-c9kt\">\\x5d</td></tr><tr><td class=\"tg-nyir\">chr(94)</td><td class=\"tg-nyir\">^</td><td class=\"tg-nyir\">\\x5e</td></tr><tr><td class=\"tg-c9kt\">chr(95)</td><td class=\"tg-c9kt\">_</td><td class=\"tg-c9kt\">\\x5f</td></tr><tr><td class=\"tg-nyir\">chr(96)</td><td class=\"tg-nyir\">`</td><td class=\"tg-nyir\">\\x60</td></tr><tr><td class=\"tg-c9kt\">chr(97)</td><td class=\"tg-c9kt\">a</td><td class=\"tg-c9kt\">\\x61</td></tr><tr><td class=\"tg-nyir\">chr(98)</td><td class=\"tg-nyir\">b</td><td class=\"tg-nyir\">\\x62</td></tr><tr><td class=\"tg-c9kt\">chr(99)</td><td class=\"tg-c9kt\">c</td><td class=\"tg-c9kt\">\\x63</td></tr><tr><td class=\"tg-nyir\">chr(100)</td><td class=\"tg-nyir\">d</td><td class=\"tg-nyir\">\\x64</td></tr><tr><td class=\"tg-c9kt\">chr(101)</td><td class=\"tg-c9kt\">e</td><td class=\"tg-c9kt\">\\x65</td></tr><tr><td class=\"tg-nyir\">chr(102)</td><td class=\"tg-nyir\">f</td><td class=\"tg-nyir\">\\x66</td></tr><tr><td class=\"tg-c9kt\">chr(103)</td><td class=\"tg-c9kt\">g</td><td class=\"tg-c9kt\">\\x67</td></tr><tr><td class=\"tg-nyir\">chr(104)</td><td class=\"tg-nyir\">h</td><td class=\"tg-nyir\">\\x68</td></tr><tr><td class=\"tg-c9kt\">chr(105)</td><td class=\"tg-c9kt\">i</td><td class=\"tg-c9kt\">\\x69</td></tr><tr><td class=\"tg-nyir\">chr(106)</td><td class=\"tg-nyir\">j</td><td class=\"tg-nyir\">\\x6a</td></tr><tr><td class=\"tg-c9kt\">chr(107)</td><td class=\"tg-c9kt\">k</td><td class=\"tg-c9kt\">\\x6b</td></tr><tr><td class=\"tg-nyir\">chr(108)</td><td class=\"tg-nyir\">l</td><td class=\"tg-nyir\">\\x6c</td></tr><tr><td class=\"tg-c9kt\">chr(109)</td><td class=\"tg-c9kt\">m</td><td class=\"tg-c9kt\">\\x6d</td></tr><tr><td class=\"tg-nyir\">chr(110)</td><td class=\"tg-nyir\">n</td><td class=\"tg-nyir\">\\x6e</td></tr><tr><td class=\"tg-c9kt\">chr(111)</td><td class=\"tg-c9kt\">o</td><td class=\"tg-c9kt\">\\x6f</td></tr><tr><td class=\"tg-nyir\">chr(112)</td><td class=\"tg-nyir\">p</td><td class=\"tg-nyir\">\\x70</td></tr><tr><td class=\"tg-c9kt\">chr(113)</td><td class=\"tg-c9kt\">q</td><td class=\"tg-c9kt\">\\x71</td></tr><tr><td class=\"tg-nyir\">chr(114)</td><td class=\"tg-nyir\">r</td><td class=\"tg-nyir\">\\x72</td></tr><tr><td class=\"tg-c9kt\">chr(115)</td><td class=\"tg-c9kt\">s</td><td class=\"tg-c9kt\">\\x73</td></tr><tr><td class=\"tg-nyir\">chr(116)</td><td class=\"tg-nyir\">t</td><td class=\"tg-nyir\">\\x74</td></tr><tr><td class=\"tg-c9kt\">chr(117)</td><td class=\"tg-c9kt\">u</td><td class=\"tg-c9kt\">\\x75</td></tr><tr><td class=\"tg-nyir\">chr(118)</td><td class=\"tg-nyir\">v</td><td class=\"tg-nyir\">\\x76</td></tr><tr><td class=\"tg-c9kt\">chr(119)</td><td class=\"tg-c9kt\">w</td><td class=\"tg-c9kt\">\\x77</td></tr><tr><td class=\"tg-nyir\">chr(120)</td><td class=\"tg-nyir\">x</td><td class=\"tg-nyir\">\\x78</td></tr><tr><td class=\"tg-c9kt\">chr(121)</td><td class=\"tg-c9kt\">y</td><td class=\"tg-c9kt\">\\x79</td></tr><tr><td class=\"tg-nyir\">chr(122)</td><td class=\"tg-nyir\">z</td><td class=\"tg-nyir\">\\x7a</td></tr><tr><td class=\"tg-c9kt\">chr(123)</td><td class=\"tg-c9kt\">{</td><td class=\"tg-c9kt\">\\x7b</td></tr><tr><td class=\"tg-nyir\">chr(124)</td><td class=\"tg-nyir\">|</td><td class=\"tg-nyir\">\\x7c</td></tr><tr><td class=\"tg-c9kt\">chr(125)</td><td class=\"tg-c9kt\">}</td><td class=\"tg-c9kt\">\\x7d</td></tr><tr><td class=\"tg-nyir\">chr(126)</td><td class=\"tg-nyir\">~</td><td class=\"tg-nyir\">\\x7e</td></tr></tbody></table>"
      ],
      "text/plain": [
       "<IPython.core.display.HTML object>"
      ]
     },
     "execution_count": 7,
     "metadata": {},
     "output_type": "execute_result"
    }
   ],
   "source": [
    "from IPython.display import HTML\n",
    "\n",
    "chaine = '''\n",
    "<style type=\"text/css\">\n",
    ".tg  {border-collapse:collapse;border-spacing:0;border-color:#aabcfe;margin:0px auto;}\n",
    ".tg td{font-family:Arial, sans-serif;font-size:14px;padding:12px 12px;border-style:solid;border-width:1px;overflow:hidden;word-break:normal;border-color:#aabcfe;color:#669;background-color:#e8edff;}\n",
    ".tg th{font-family:Arial, sans-serif;font-size:14px;font-weight:normal;padding:12px 12px;border-style:solid;border-width:1px;overflow:hidden;word-break:normal;border-color:#aabcfe;color:#039;background-color:#b9c9fe;}\n",
    ".tg .tg-c9kt{font-size:16px;font-family:\"Comic Sans MS\", cursive, sans-serif !important;;text-align:left;vertical-align:middle}\n",
    ".tg .tg-sd90{font-weight:bold;font-size:16px;font-family:\"Comic Sans MS\", cursive, sans-serif !important;;text-align:left;vertical-align:middle}\n",
    ".tg .tg-nyir{background-color:#D2E4FC;font-size:16px;font-family:\"Comic Sans MS\", cursive, sans-serif !important;;text-align:left;vertical-align:middle}\n",
    "</style>\n",
    "\n",
    "<table class=\"tg\">\n",
    "    <thead>\n",
    "        <th class=\"tg-sd90\">Code décimal</th>\n",
    "        <th class=\"tg-sd90\">Caractère</th>\n",
    "        <th class=\"tg-sd90\">Code hexadécimal</th>\n",
    "    </thead>\n",
    "    <tbody>\n",
    "'''\n",
    "\n",
    "for i in range (32,127) :\n",
    "    if i % 2 == 0 :\n",
    "        chaine += f'<tr><td class=\"tg-nyir\">chr({i})</td><td class=\"tg-nyir\">' + chr(i) + '</td><td class=\"tg-nyir\">\\x5c' + (hex(i)[1:]) + '</td></tr>'\n",
    "    else :\n",
    "        chaine += f'<tr><td class=\"tg-c9kt\">chr({i})</td><td class=\"tg-c9kt\">' + chr(i) + '</td><td class=\"tg-c9kt\">\\x5c' + (hex(i)[1:]) + '</td></tr>'\n",
    "\n",
    "HTML(chaine +\"</tbody></table>\" )"
   ]
  },
  {
   "cell_type": "markdown",
   "metadata": {},
   "source": [
    "\n",
    "\n",
    "\n"
   ]
  },
  {
   "cell_type": "markdown",
   "metadata": {},
   "source": [
    "****\n",
    "## Références aux programmes :\n",
    "\n",
    "<style type=\"text/css\">\n",
    ".tg  {border-collapse:collapse;border-spacing:0;}\n",
    ".tg td{font-family:Arial, sans-serif;font-size:14px;padding:10px 5px;border-style:solid;border-width:1px;overflow:hidden;word-break:normal;border-color:black;}\n",
    ".tg th{font-family:Arial, sans-serif;font-size:14px;font-weight:normal;padding:10px 5px;border-style:solid;border-width:1px;overflow:hidden;word-break:normal;border-color:black;}\n",
    ".tg .tg-cv16{font-weight:bold;background-color:#dae8fc;border-color:inherit;text-align:center}\n",
    ".tg .tg-xldj{border-color:inherit;text-align:left}\n",
    "</style>\n",
    "<table class=\"tg\">\n",
    "  <tr>\n",
    "    <th class=\"tg-cv16\">Compétences développées</th>\n",
    "    <th class=\"tg-cv16\">Capacités attendues</th>\n",
    "    <th class=\"tg-cv16\">Commentaires</th>\n",
    "  </tr>\n",
    "  <tr>\n",
    "    <td class=\"tg-xldj\">Représentation d’un texte en machine.<br><br>Exemples des encodages ASCII, ISO-8859-1, Unicode</td>\n",
    "    <td class=\"tg-xldj\">Identifier l’intérêt des différents systèmes d’encodage.<br><br>Convertir un fichier texte dans différents formats d’encodage.</td>\n",
    "    <td class=\"tg-xldj\">Aucune connaissance précise des normes d’encodage n’est exigible.</td>\n",
    "  </tr>\n",
    "</table>"
   ]
  },
  {
   "cell_type": "markdown",
   "metadata": {},
   "source": [
    "****\n",
    "## A retenir :\n",
    "\n",
    "\n",
    "\n",
    "- *A vous de compléter ce mémo*...\n",
    "- ... \n",
    "\n",
    "***"
   ]
  },
  {
   "cell_type": "markdown",
   "metadata": {},
   "source": [
    "## Prolongement :\n",
    "\n",
    "\n",
    "\n"
   ]
  },
  {
   "cell_type": "markdown",
   "metadata": {},
   "source": [
    "<a rel=\"license\" href=\"http://creativecommons.org/licenses/by-sa/4.0/\"><img alt=\"Licence Creative Commons\" style=\"border-width:0\" src=\"https://i.creativecommons.org/l/by-sa/4.0/88x31.png\" /></a><br />Ce document est mis à disposition selon les termes de la <a rel=\"license\" href=\"http://creativecommons.org/licenses/by-sa/4.0/\">Licence Creative Commons Attribution -  Partage dans les Mêmes Conditions 4.0 International</a>.\n",
    "\n",
    "Pour toute question, suggestion ou commentaire : <a href=\"mailto:eric.madec@ecmorlaix.fr\">eric.madec@ecmorlaix.fr</a>"
   ]
  },
  {
   "cell_type": "code",
   "execution_count": null,
   "metadata": {},
   "outputs": [],
   "source": []
  }
 ],
 "metadata": {
  "kernelspec": {
   "display_name": "Python 3",
   "language": "python",
   "name": "python3"
  },
  "language_info": {
   "codemirror_mode": {
    "name": "ipython",
    "version": 3
   },
   "file_extension": ".py",
   "mimetype": "text/x-python",
   "name": "python",
   "nbconvert_exporter": "python",
   "pygments_lexer": "ipython3",
   "version": "3.7.3"
  },
  "toc": {
   "base_numbering": 1,
   "nav_menu": {},
   "number_sections": true,
   "sideBar": true,
   "skip_h1_title": false,
   "title_cell": "Table of Contents",
   "title_sidebar": "Contents",
   "toc_cell": false,
   "toc_position": {},
   "toc_section_display": true,
   "toc_window_display": false
  },
  "varInspector": {
   "cols": {
    "lenName": 16,
    "lenType": 16,
    "lenVar": 40
   },
   "kernels_config": {
    "python": {
     "delete_cmd_postfix": "",
     "delete_cmd_prefix": "del ",
     "library": "var_list.py",
     "varRefreshCmd": "print(var_dic_list())"
    },
    "r": {
     "delete_cmd_postfix": ") ",
     "delete_cmd_prefix": "rm(",
     "library": "var_list.r",
     "varRefreshCmd": "cat(var_dic_list()) "
    }
   },
   "types_to_exclude": [
    "module",
    "function",
    "builtin_function_or_method",
    "instance",
    "_Feature"
   ],
   "window_display": false
  }
 },
 "nbformat": 4,
 "nbformat_minor": 2
}
