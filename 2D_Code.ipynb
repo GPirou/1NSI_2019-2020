{
 "cells": [
  {
   "cell_type": "markdown",
   "metadata": {},
   "source": [
    "# Minis-projets en 2D_Code\n",
    "\n",
    "Nous allons créer des [QR codes](https://fr.wikipedia.org/wiki/Code_QR) simplifiés afin d'encoder dans une image un message textuel.\n",
    "\n",
    "Nous utiliserons le module `ipythonbloks` pour dessiner nos 2D_Codes.\n",
    "\n",
    "# Prise en main du module ipythonblocks :\n",
    "\n",
    "Ce module permet de dessiner dans un jupyter notebook des grilles telles que :"
   ]
  },
  {
   "cell_type": "code",
   "execution_count": 7,
   "metadata": {},
   "outputs": [
    {
     "data": {
      "text/html": [
       "<style type=\"text/css\">table.blockgrid {border: none;} .blockgrid tr {border: none;} .blockgrid td {padding: 0px;} #blocks9be54341-0b98-4a1c-93e6-9ca0f0198b77 td {border: 1px solid white;}</style><table id=\"blocks9be54341-0b98-4a1c-93e6-9ca0f0198b77\" class=\"blockgrid\"><tbody><tr><td title=\"Index: [0, 0]&#10;Color: (200, 200, 200)\" style=\"width: 30px; height: 30px;background-color: rgb(200, 200, 200);\"></td><td title=\"Index: [0, 1]&#10;Color: (200, 200, 200)\" style=\"width: 30px; height: 30px;background-color: rgb(200, 200, 200);\"></td><td title=\"Index: [0, 2]&#10;Color: (200, 200, 200)\" style=\"width: 30px; height: 30px;background-color: rgb(200, 200, 200);\"></td><td title=\"Index: [0, 3]&#10;Color: (200, 200, 200)\" style=\"width: 30px; height: 30px;background-color: rgb(200, 200, 200);\"></td><td title=\"Index: [0, 4]&#10;Color: (200, 200, 200)\" style=\"width: 30px; height: 30px;background-color: rgb(200, 200, 200);\"></td><td title=\"Index: [0, 5]&#10;Color: (200, 200, 200)\" style=\"width: 30px; height: 30px;background-color: rgb(200, 200, 200);\"></td><td title=\"Index: [0, 6]&#10;Color: (200, 200, 200)\" style=\"width: 30px; height: 30px;background-color: rgb(200, 200, 200);\"></td><td title=\"Index: [0, 7]&#10;Color: (200, 200, 200)\" style=\"width: 30px; height: 30px;background-color: rgb(200, 200, 200);\"></td></tr><tr><td title=\"Index: [1, 0]&#10;Color: (200, 200, 200)\" style=\"width: 30px; height: 30px;background-color: rgb(200, 200, 200);\"></td><td title=\"Index: [1, 1]&#10;Color: (200, 200, 200)\" style=\"width: 30px; height: 30px;background-color: rgb(200, 200, 200);\"></td><td title=\"Index: [1, 2]&#10;Color: (200, 200, 200)\" style=\"width: 30px; height: 30px;background-color: rgb(200, 200, 200);\"></td><td title=\"Index: [1, 3]&#10;Color: (200, 200, 200)\" style=\"width: 30px; height: 30px;background-color: rgb(200, 200, 200);\"></td><td title=\"Index: [1, 4]&#10;Color: (200, 200, 200)\" style=\"width: 30px; height: 30px;background-color: rgb(200, 200, 200);\"></td><td title=\"Index: [1, 5]&#10;Color: (200, 200, 200)\" style=\"width: 30px; height: 30px;background-color: rgb(200, 200, 200);\"></td><td title=\"Index: [1, 6]&#10;Color: (200, 200, 200)\" style=\"width: 30px; height: 30px;background-color: rgb(200, 200, 200);\"></td><td title=\"Index: [1, 7]&#10;Color: (200, 200, 200)\" style=\"width: 30px; height: 30px;background-color: rgb(200, 200, 200);\"></td></tr><tr><td title=\"Index: [2, 0]&#10;Color: (200, 200, 200)\" style=\"width: 30px; height: 30px;background-color: rgb(200, 200, 200);\"></td><td title=\"Index: [2, 1]&#10;Color: (200, 200, 200)\" style=\"width: 30px; height: 30px;background-color: rgb(200, 200, 200);\"></td><td title=\"Index: [2, 2]&#10;Color: (200, 200, 200)\" style=\"width: 30px; height: 30px;background-color: rgb(200, 200, 200);\"></td><td title=\"Index: [2, 3]&#10;Color: (200, 200, 200)\" style=\"width: 30px; height: 30px;background-color: rgb(200, 200, 200);\"></td><td title=\"Index: [2, 4]&#10;Color: (200, 200, 200)\" style=\"width: 30px; height: 30px;background-color: rgb(200, 200, 200);\"></td><td title=\"Index: [2, 5]&#10;Color: (200, 200, 200)\" style=\"width: 30px; height: 30px;background-color: rgb(200, 200, 200);\"></td><td title=\"Index: [2, 6]&#10;Color: (200, 200, 200)\" style=\"width: 30px; height: 30px;background-color: rgb(200, 200, 200);\"></td><td title=\"Index: [2, 7]&#10;Color: (200, 200, 200)\" style=\"width: 30px; height: 30px;background-color: rgb(200, 200, 200);\"></td></tr><tr><td title=\"Index: [3, 0]&#10;Color: (200, 200, 200)\" style=\"width: 30px; height: 30px;background-color: rgb(200, 200, 200);\"></td><td title=\"Index: [3, 1]&#10;Color: (200, 200, 200)\" style=\"width: 30px; height: 30px;background-color: rgb(200, 200, 200);\"></td><td title=\"Index: [3, 2]&#10;Color: (200, 200, 200)\" style=\"width: 30px; height: 30px;background-color: rgb(200, 200, 200);\"></td><td title=\"Index: [3, 3]&#10;Color: (200, 200, 200)\" style=\"width: 30px; height: 30px;background-color: rgb(200, 200, 200);\"></td><td title=\"Index: [3, 4]&#10;Color: (200, 200, 200)\" style=\"width: 30px; height: 30px;background-color: rgb(200, 200, 200);\"></td><td title=\"Index: [3, 5]&#10;Color: (200, 200, 200)\" style=\"width: 30px; height: 30px;background-color: rgb(200, 200, 200);\"></td><td title=\"Index: [3, 6]&#10;Color: (200, 200, 200)\" style=\"width: 30px; height: 30px;background-color: rgb(200, 200, 200);\"></td><td title=\"Index: [3, 7]&#10;Color: (200, 200, 200)\" style=\"width: 30px; height: 30px;background-color: rgb(200, 200, 200);\"></td></tr><tr><td title=\"Index: [4, 0]&#10;Color: (200, 200, 200)\" style=\"width: 30px; height: 30px;background-color: rgb(200, 200, 200);\"></td><td title=\"Index: [4, 1]&#10;Color: (200, 200, 200)\" style=\"width: 30px; height: 30px;background-color: rgb(200, 200, 200);\"></td><td title=\"Index: [4, 2]&#10;Color: (200, 200, 200)\" style=\"width: 30px; height: 30px;background-color: rgb(200, 200, 200);\"></td><td title=\"Index: [4, 3]&#10;Color: (200, 200, 200)\" style=\"width: 30px; height: 30px;background-color: rgb(200, 200, 200);\"></td><td title=\"Index: [4, 4]&#10;Color: (200, 200, 200)\" style=\"width: 30px; height: 30px;background-color: rgb(200, 200, 200);\"></td><td title=\"Index: [4, 5]&#10;Color: (200, 200, 200)\" style=\"width: 30px; height: 30px;background-color: rgb(200, 200, 200);\"></td><td title=\"Index: [4, 6]&#10;Color: (200, 200, 200)\" style=\"width: 30px; height: 30px;background-color: rgb(200, 200, 200);\"></td><td title=\"Index: [4, 7]&#10;Color: (200, 200, 200)\" style=\"width: 30px; height: 30px;background-color: rgb(200, 200, 200);\"></td></tr><tr><td title=\"Index: [5, 0]&#10;Color: (200, 200, 200)\" style=\"width: 30px; height: 30px;background-color: rgb(200, 200, 200);\"></td><td title=\"Index: [5, 1]&#10;Color: (200, 200, 200)\" style=\"width: 30px; height: 30px;background-color: rgb(200, 200, 200);\"></td><td title=\"Index: [5, 2]&#10;Color: (200, 200, 200)\" style=\"width: 30px; height: 30px;background-color: rgb(200, 200, 200);\"></td><td title=\"Index: [5, 3]&#10;Color: (200, 200, 200)\" style=\"width: 30px; height: 30px;background-color: rgb(200, 200, 200);\"></td><td title=\"Index: [5, 4]&#10;Color: (200, 200, 200)\" style=\"width: 30px; height: 30px;background-color: rgb(200, 200, 200);\"></td><td title=\"Index: [5, 5]&#10;Color: (200, 200, 200)\" style=\"width: 30px; height: 30px;background-color: rgb(200, 200, 200);\"></td><td title=\"Index: [5, 6]&#10;Color: (200, 200, 200)\" style=\"width: 30px; height: 30px;background-color: rgb(200, 200, 200);\"></td><td title=\"Index: [5, 7]&#10;Color: (200, 200, 200)\" style=\"width: 30px; height: 30px;background-color: rgb(200, 200, 200);\"></td></tr><tr><td title=\"Index: [6, 0]&#10;Color: (200, 200, 200)\" style=\"width: 30px; height: 30px;background-color: rgb(200, 200, 200);\"></td><td title=\"Index: [6, 1]&#10;Color: (200, 200, 200)\" style=\"width: 30px; height: 30px;background-color: rgb(200, 200, 200);\"></td><td title=\"Index: [6, 2]&#10;Color: (200, 200, 200)\" style=\"width: 30px; height: 30px;background-color: rgb(200, 200, 200);\"></td><td title=\"Index: [6, 3]&#10;Color: (200, 200, 200)\" style=\"width: 30px; height: 30px;background-color: rgb(200, 200, 200);\"></td><td title=\"Index: [6, 4]&#10;Color: (200, 200, 200)\" style=\"width: 30px; height: 30px;background-color: rgb(200, 200, 200);\"></td><td title=\"Index: [6, 5]&#10;Color: (200, 200, 200)\" style=\"width: 30px; height: 30px;background-color: rgb(200, 200, 200);\"></td><td title=\"Index: [6, 6]&#10;Color: (200, 200, 200)\" style=\"width: 30px; height: 30px;background-color: rgb(200, 200, 200);\"></td><td title=\"Index: [6, 7]&#10;Color: (200, 200, 200)\" style=\"width: 30px; height: 30px;background-color: rgb(200, 200, 200);\"></td></tr><tr><td title=\"Index: [7, 0]&#10;Color: (200, 200, 200)\" style=\"width: 30px; height: 30px;background-color: rgb(200, 200, 200);\"></td><td title=\"Index: [7, 1]&#10;Color: (200, 200, 200)\" style=\"width: 30px; height: 30px;background-color: rgb(200, 200, 200);\"></td><td title=\"Index: [7, 2]&#10;Color: (200, 200, 200)\" style=\"width: 30px; height: 30px;background-color: rgb(200, 200, 200);\"></td><td title=\"Index: [7, 3]&#10;Color: (200, 200, 200)\" style=\"width: 30px; height: 30px;background-color: rgb(200, 200, 200);\"></td><td title=\"Index: [7, 4]&#10;Color: (200, 200, 200)\" style=\"width: 30px; height: 30px;background-color: rgb(200, 200, 200);\"></td><td title=\"Index: [7, 5]&#10;Color: (200, 200, 200)\" style=\"width: 30px; height: 30px;background-color: rgb(200, 200, 200);\"></td><td title=\"Index: [7, 6]&#10;Color: (200, 200, 200)\" style=\"width: 30px; height: 30px;background-color: rgb(200, 200, 200);\"></td><td title=\"Index: [7, 7]&#10;Color: (200, 200, 200)\" style=\"width: 30px; height: 30px;background-color: rgb(200, 200, 200);\"></td></tr><tr><td title=\"Index: [8, 0]&#10;Color: (200, 200, 200)\" style=\"width: 30px; height: 30px;background-color: rgb(200, 200, 200);\"></td><td title=\"Index: [8, 1]&#10;Color: (200, 200, 200)\" style=\"width: 30px; height: 30px;background-color: rgb(200, 200, 200);\"></td><td title=\"Index: [8, 2]&#10;Color: (200, 200, 200)\" style=\"width: 30px; height: 30px;background-color: rgb(200, 200, 200);\"></td><td title=\"Index: [8, 3]&#10;Color: (200, 200, 200)\" style=\"width: 30px; height: 30px;background-color: rgb(200, 200, 200);\"></td><td title=\"Index: [8, 4]&#10;Color: (200, 200, 200)\" style=\"width: 30px; height: 30px;background-color: rgb(200, 200, 200);\"></td><td title=\"Index: [8, 5]&#10;Color: (200, 200, 200)\" style=\"width: 30px; height: 30px;background-color: rgb(200, 200, 200);\"></td><td title=\"Index: [8, 6]&#10;Color: (200, 200, 200)\" style=\"width: 30px; height: 30px;background-color: rgb(200, 200, 200);\"></td><td title=\"Index: [8, 7]&#10;Color: (200, 200, 200)\" style=\"width: 30px; height: 30px;background-color: rgb(200, 200, 200);\"></td></tr><tr><td title=\"Index: [9, 0]&#10;Color: (200, 200, 200)\" style=\"width: 30px; height: 30px;background-color: rgb(200, 200, 200);\"></td><td title=\"Index: [9, 1]&#10;Color: (200, 200, 200)\" style=\"width: 30px; height: 30px;background-color: rgb(200, 200, 200);\"></td><td title=\"Index: [9, 2]&#10;Color: (200, 200, 200)\" style=\"width: 30px; height: 30px;background-color: rgb(200, 200, 200);\"></td><td title=\"Index: [9, 3]&#10;Color: (200, 200, 200)\" style=\"width: 30px; height: 30px;background-color: rgb(200, 200, 200);\"></td><td title=\"Index: [9, 4]&#10;Color: (200, 200, 200)\" style=\"width: 30px; height: 30px;background-color: rgb(200, 200, 200);\"></td><td title=\"Index: [9, 5]&#10;Color: (200, 200, 200)\" style=\"width: 30px; height: 30px;background-color: rgb(200, 200, 200);\"></td><td title=\"Index: [9, 6]&#10;Color: (200, 200, 200)\" style=\"width: 30px; height: 30px;background-color: rgb(200, 200, 200);\"></td><td title=\"Index: [9, 7]&#10;Color: (200, 200, 200)\" style=\"width: 30px; height: 30px;background-color: rgb(200, 200, 200);\"></td></tr></tbody></table>"
      ],
      "text/plain": [
       "<ipythonblocks.ipythonblocks.BlockGrid at 0x200aff954e0>"
      ]
     },
     "execution_count": 7,
     "metadata": {},
     "output_type": "execute_result"
    }
   ],
   "source": [
    "# On importe la fonction BlockGrid() du module ipythonblocks\n",
    "from ipythonblocks import BlockGrid\n",
    "# On crée un objet maGrille, une instance de BlockGrid\n",
    "maGrille = BlockGrid(8,10, fill=(200, 200, 200), block_size=30)\n",
    "# On affiche notre grille\n",
    "maGrille"
   ]
  },
  {
   "cell_type": "markdown",
   "metadata": {},
   "source": [
    "On peut alors accéder à chaque case de la grille pour la modifier"
   ]
  },
  {
   "cell_type": "code",
   "execution_count": 9,
   "metadata": {},
   "outputs": [
    {
     "data": {
      "text/html": [
       "<style type=\"text/css\">table.blockgrid {border: none;} .blockgrid tr {border: none;} .blockgrid td {padding: 0px;} #blocks1ff3bce5-4078-4ade-91d5-db0ded00facf td {border: 1px solid white;}</style><table id=\"blocks1ff3bce5-4078-4ade-91d5-db0ded00facf\" class=\"blockgrid\"><tbody><tr><td title=\"Index: [0, 0]&#10;Color: (0, 0, 0)\" style=\"width: 30px; height: 30px;background-color: rgb(0, 0, 0);\"></td><td title=\"Index: [0, 1]&#10;Color: (200, 200, 200)\" style=\"width: 30px; height: 30px;background-color: rgb(200, 200, 200);\"></td><td title=\"Index: [0, 2]&#10;Color: (200, 200, 200)\" style=\"width: 30px; height: 30px;background-color: rgb(200, 200, 200);\"></td><td title=\"Index: [0, 3]&#10;Color: (200, 200, 200)\" style=\"width: 30px; height: 30px;background-color: rgb(200, 200, 200);\"></td><td title=\"Index: [0, 4]&#10;Color: (200, 200, 200)\" style=\"width: 30px; height: 30px;background-color: rgb(200, 200, 200);\"></td><td title=\"Index: [0, 5]&#10;Color: (200, 200, 200)\" style=\"width: 30px; height: 30px;background-color: rgb(200, 200, 200);\"></td><td title=\"Index: [0, 6]&#10;Color: (200, 200, 200)\" style=\"width: 30px; height: 30px;background-color: rgb(200, 200, 200);\"></td><td title=\"Index: [0, 7]&#10;Color: (200, 200, 200)\" style=\"width: 30px; height: 30px;background-color: rgb(200, 200, 200);\"></td></tr><tr><td title=\"Index: [1, 0]&#10;Color: (200, 200, 200)\" style=\"width: 30px; height: 30px;background-color: rgb(200, 200, 200);\"></td><td title=\"Index: [1, 1]&#10;Color: (200, 200, 200)\" style=\"width: 30px; height: 30px;background-color: rgb(200, 200, 200);\"></td><td title=\"Index: [1, 2]&#10;Color: (200, 200, 200)\" style=\"width: 30px; height: 30px;background-color: rgb(200, 200, 200);\"></td><td title=\"Index: [1, 3]&#10;Color: (200, 200, 200)\" style=\"width: 30px; height: 30px;background-color: rgb(200, 200, 200);\"></td><td title=\"Index: [1, 4]&#10;Color: (200, 200, 200)\" style=\"width: 30px; height: 30px;background-color: rgb(200, 200, 200);\"></td><td title=\"Index: [1, 5]&#10;Color: (200, 200, 200)\" style=\"width: 30px; height: 30px;background-color: rgb(200, 200, 200);\"></td><td title=\"Index: [1, 6]&#10;Color: (200, 200, 200)\" style=\"width: 30px; height: 30px;background-color: rgb(200, 200, 200);\"></td><td title=\"Index: [1, 7]&#10;Color: (200, 200, 200)\" style=\"width: 30px; height: 30px;background-color: rgb(200, 200, 200);\"></td></tr><tr><td title=\"Index: [2, 0]&#10;Color: (200, 200, 200)\" style=\"width: 30px; height: 30px;background-color: rgb(200, 200, 200);\"></td><td title=\"Index: [2, 1]&#10;Color: (200, 200, 200)\" style=\"width: 30px; height: 30px;background-color: rgb(200, 200, 200);\"></td><td title=\"Index: [2, 2]&#10;Color: (200, 200, 200)\" style=\"width: 30px; height: 30px;background-color: rgb(200, 200, 200);\"></td><td title=\"Index: [2, 3]&#10;Color: (255, 255, 255)\" style=\"width: 30px; height: 30px;background-color: rgb(255, 255, 255);\"></td><td title=\"Index: [2, 4]&#10;Color: (200, 200, 200)\" style=\"width: 30px; height: 30px;background-color: rgb(200, 200, 200);\"></td><td title=\"Index: [2, 5]&#10;Color: (200, 200, 200)\" style=\"width: 30px; height: 30px;background-color: rgb(200, 200, 200);\"></td><td title=\"Index: [2, 6]&#10;Color: (200, 200, 200)\" style=\"width: 30px; height: 30px;background-color: rgb(200, 200, 200);\"></td><td title=\"Index: [2, 7]&#10;Color: (200, 200, 200)\" style=\"width: 30px; height: 30px;background-color: rgb(200, 200, 200);\"></td></tr><tr><td title=\"Index: [3, 0]&#10;Color: (200, 200, 200)\" style=\"width: 30px; height: 30px;background-color: rgb(200, 200, 200);\"></td><td title=\"Index: [3, 1]&#10;Color: (200, 200, 200)\" style=\"width: 30px; height: 30px;background-color: rgb(200, 200, 200);\"></td><td title=\"Index: [3, 2]&#10;Color: (200, 200, 200)\" style=\"width: 30px; height: 30px;background-color: rgb(200, 200, 200);\"></td><td title=\"Index: [3, 3]&#10;Color: (200, 200, 200)\" style=\"width: 30px; height: 30px;background-color: rgb(200, 200, 200);\"></td><td title=\"Index: [3, 4]&#10;Color: (200, 200, 200)\" style=\"width: 30px; height: 30px;background-color: rgb(200, 200, 200);\"></td><td title=\"Index: [3, 5]&#10;Color: (200, 200, 200)\" style=\"width: 30px; height: 30px;background-color: rgb(200, 200, 200);\"></td><td title=\"Index: [3, 6]&#10;Color: (200, 200, 200)\" style=\"width: 30px; height: 30px;background-color: rgb(200, 200, 200);\"></td><td title=\"Index: [3, 7]&#10;Color: (200, 200, 200)\" style=\"width: 30px; height: 30px;background-color: rgb(200, 200, 200);\"></td></tr><tr><td title=\"Index: [4, 0]&#10;Color: (200, 200, 200)\" style=\"width: 30px; height: 30px;background-color: rgb(200, 200, 200);\"></td><td title=\"Index: [4, 1]&#10;Color: (200, 200, 200)\" style=\"width: 30px; height: 30px;background-color: rgb(200, 200, 200);\"></td><td title=\"Index: [4, 2]&#10;Color: (200, 200, 200)\" style=\"width: 30px; height: 30px;background-color: rgb(200, 200, 200);\"></td><td title=\"Index: [4, 3]&#10;Color: (200, 200, 200)\" style=\"width: 30px; height: 30px;background-color: rgb(200, 200, 200);\"></td><td title=\"Index: [4, 4]&#10;Color: (200, 200, 200)\" style=\"width: 30px; height: 30px;background-color: rgb(200, 200, 200);\"></td><td title=\"Index: [4, 5]&#10;Color: (200, 200, 200)\" style=\"width: 30px; height: 30px;background-color: rgb(200, 200, 200);\"></td><td title=\"Index: [4, 6]&#10;Color: (200, 200, 200)\" style=\"width: 30px; height: 30px;background-color: rgb(200, 200, 200);\"></td><td title=\"Index: [4, 7]&#10;Color: (200, 200, 200)\" style=\"width: 30px; height: 30px;background-color: rgb(200, 200, 200);\"></td></tr><tr><td title=\"Index: [5, 0]&#10;Color: (200, 200, 200)\" style=\"width: 30px; height: 30px;background-color: rgb(200, 200, 200);\"></td><td title=\"Index: [5, 1]&#10;Color: (200, 200, 200)\" style=\"width: 30px; height: 30px;background-color: rgb(200, 200, 200);\"></td><td title=\"Index: [5, 2]&#10;Color: (200, 200, 200)\" style=\"width: 30px; height: 30px;background-color: rgb(200, 200, 200);\"></td><td title=\"Index: [5, 3]&#10;Color: (200, 200, 200)\" style=\"width: 30px; height: 30px;background-color: rgb(200, 200, 200);\"></td><td title=\"Index: [5, 4]&#10;Color: (200, 200, 200)\" style=\"width: 30px; height: 30px;background-color: rgb(200, 200, 200);\"></td><td title=\"Index: [5, 5]&#10;Color: (200, 200, 200)\" style=\"width: 30px; height: 30px;background-color: rgb(200, 200, 200);\"></td><td title=\"Index: [5, 6]&#10;Color: (200, 200, 200)\" style=\"width: 30px; height: 30px;background-color: rgb(200, 200, 200);\"></td><td title=\"Index: [5, 7]&#10;Color: (200, 200, 200)\" style=\"width: 30px; height: 30px;background-color: rgb(200, 200, 200);\"></td></tr><tr><td title=\"Index: [6, 0]&#10;Color: (200, 200, 200)\" style=\"width: 30px; height: 30px;background-color: rgb(200, 200, 200);\"></td><td title=\"Index: [6, 1]&#10;Color: (200, 200, 200)\" style=\"width: 30px; height: 30px;background-color: rgb(200, 200, 200);\"></td><td title=\"Index: [6, 2]&#10;Color: (200, 200, 200)\" style=\"width: 30px; height: 30px;background-color: rgb(200, 200, 200);\"></td><td title=\"Index: [6, 3]&#10;Color: (200, 200, 200)\" style=\"width: 30px; height: 30px;background-color: rgb(200, 200, 200);\"></td><td title=\"Index: [6, 4]&#10;Color: (200, 200, 200)\" style=\"width: 30px; height: 30px;background-color: rgb(200, 200, 200);\"></td><td title=\"Index: [6, 5]&#10;Color: (200, 200, 200)\" style=\"width: 30px; height: 30px;background-color: rgb(200, 200, 200);\"></td><td title=\"Index: [6, 6]&#10;Color: (200, 200, 200)\" style=\"width: 30px; height: 30px;background-color: rgb(200, 200, 200);\"></td><td title=\"Index: [6, 7]&#10;Color: (200, 200, 200)\" style=\"width: 30px; height: 30px;background-color: rgb(200, 200, 200);\"></td></tr><tr><td title=\"Index: [7, 0]&#10;Color: (200, 200, 200)\" style=\"width: 30px; height: 30px;background-color: rgb(200, 200, 200);\"></td><td title=\"Index: [7, 1]&#10;Color: (200, 200, 200)\" style=\"width: 30px; height: 30px;background-color: rgb(200, 200, 200);\"></td><td title=\"Index: [7, 2]&#10;Color: (200, 200, 200)\" style=\"width: 30px; height: 30px;background-color: rgb(200, 200, 200);\"></td><td title=\"Index: [7, 3]&#10;Color: (200, 200, 200)\" style=\"width: 30px; height: 30px;background-color: rgb(200, 200, 200);\"></td><td title=\"Index: [7, 4]&#10;Color: (200, 200, 200)\" style=\"width: 30px; height: 30px;background-color: rgb(200, 200, 200);\"></td><td title=\"Index: [7, 5]&#10;Color: (200, 200, 200)\" style=\"width: 30px; height: 30px;background-color: rgb(200, 200, 200);\"></td><td title=\"Index: [7, 6]&#10;Color: (200, 200, 200)\" style=\"width: 30px; height: 30px;background-color: rgb(200, 200, 200);\"></td><td title=\"Index: [7, 7]&#10;Color: (200, 200, 200)\" style=\"width: 30px; height: 30px;background-color: rgb(200, 200, 200);\"></td></tr><tr><td title=\"Index: [8, 0]&#10;Color: (200, 200, 200)\" style=\"width: 30px; height: 30px;background-color: rgb(200, 200, 200);\"></td><td title=\"Index: [8, 1]&#10;Color: (200, 200, 200)\" style=\"width: 30px; height: 30px;background-color: rgb(200, 200, 200);\"></td><td title=\"Index: [8, 2]&#10;Color: (200, 200, 200)\" style=\"width: 30px; height: 30px;background-color: rgb(200, 200, 200);\"></td><td title=\"Index: [8, 3]&#10;Color: (200, 200, 200)\" style=\"width: 30px; height: 30px;background-color: rgb(200, 200, 200);\"></td><td title=\"Index: [8, 4]&#10;Color: (200, 200, 200)\" style=\"width: 30px; height: 30px;background-color: rgb(200, 200, 200);\"></td><td title=\"Index: [8, 5]&#10;Color: (200, 200, 200)\" style=\"width: 30px; height: 30px;background-color: rgb(200, 200, 200);\"></td><td title=\"Index: [8, 6]&#10;Color: (200, 200, 200)\" style=\"width: 30px; height: 30px;background-color: rgb(200, 200, 200);\"></td><td title=\"Index: [8, 7]&#10;Color: (200, 200, 200)\" style=\"width: 30px; height: 30px;background-color: rgb(200, 200, 200);\"></td></tr><tr><td title=\"Index: [9, 0]&#10;Color: (200, 200, 200)\" style=\"width: 30px; height: 30px;background-color: rgb(200, 200, 200);\"></td><td title=\"Index: [9, 1]&#10;Color: (200, 200, 200)\" style=\"width: 30px; height: 30px;background-color: rgb(200, 200, 200);\"></td><td title=\"Index: [9, 2]&#10;Color: (200, 200, 200)\" style=\"width: 30px; height: 30px;background-color: rgb(200, 200, 200);\"></td><td title=\"Index: [9, 3]&#10;Color: (200, 200, 200)\" style=\"width: 30px; height: 30px;background-color: rgb(200, 200, 200);\"></td><td title=\"Index: [9, 4]&#10;Color: (200, 200, 200)\" style=\"width: 30px; height: 30px;background-color: rgb(200, 200, 200);\"></td><td title=\"Index: [9, 5]&#10;Color: (200, 200, 200)\" style=\"width: 30px; height: 30px;background-color: rgb(200, 200, 200);\"></td><td title=\"Index: [9, 6]&#10;Color: (200, 200, 200)\" style=\"width: 30px; height: 30px;background-color: rgb(200, 200, 200);\"></td><td title=\"Index: [9, 7]&#10;Color: (200, 200, 200)\" style=\"width: 30px; height: 30px;background-color: rgb(200, 200, 200);\"></td></tr></tbody></table>"
      ],
      "text/plain": [
       "<ipythonblocks.ipythonblocks.BlockGrid at 0x200aff954e0>"
      ]
     },
     "execution_count": 9,
     "metadata": {},
     "output_type": "execute_result"
    }
   ],
   "source": [
    "maGrille[0,0]=(0,0,0)\n",
    "maGrille[2,3]=(255,255,255)\n",
    "maGrille"
   ]
  },
  {
   "cell_type": "code",
   "execution_count": 14,
   "metadata": {},
   "outputs": [
    {
     "data": {
      "text/html": [
       "<style type=\"text/css\">table.blockgrid {border: none;} .blockgrid tr {border: none;} .blockgrid td {padding: 0px;} #blocks25acc659-cc4f-404f-924a-92b371ac1dc7 td {border: 1px solid white;}</style><table id=\"blocks25acc659-cc4f-404f-924a-92b371ac1dc7\" class=\"blockgrid\"><tbody><tr><td title=\"Index: [0, 0]&#10;Color: (0, 0, 0)\" style=\"width: 30px; height: 30px;background-color: rgb(0, 0, 0);\"></td><td title=\"Index: [0, 1]&#10;Color: (200, 200, 200)\" style=\"width: 30px; height: 30px;background-color: rgb(200, 200, 200);\"></td><td title=\"Index: [0, 2]&#10;Color: (200, 200, 200)\" style=\"width: 30px; height: 30px;background-color: rgb(200, 200, 200);\"></td><td title=\"Index: [0, 3]&#10;Color: (200, 200, 200)\" style=\"width: 30px; height: 30px;background-color: rgb(200, 200, 200);\"></td><td title=\"Index: [0, 4]&#10;Color: (200, 200, 200)\" style=\"width: 30px; height: 30px;background-color: rgb(200, 200, 200);\"></td><td title=\"Index: [0, 5]&#10;Color: (200, 200, 200)\" style=\"width: 30px; height: 30px;background-color: rgb(200, 200, 200);\"></td><td title=\"Index: [0, 6]&#10;Color: (200, 200, 200)\" style=\"width: 30px; height: 30px;background-color: rgb(200, 200, 200);\"></td><td title=\"Index: [0, 7]&#10;Color: (200, 200, 200)\" style=\"width: 30px; height: 30px;background-color: rgb(200, 200, 200);\"></td></tr><tr><td title=\"Index: [1, 0]&#10;Color: (200, 200, 200)\" style=\"width: 30px; height: 30px;background-color: rgb(200, 200, 200);\"></td><td title=\"Index: [1, 1]&#10;Color: (200, 200, 200)\" style=\"width: 30px; height: 30px;background-color: rgb(200, 200, 200);\"></td><td title=\"Index: [1, 2]&#10;Color: (200, 200, 200)\" style=\"width: 30px; height: 30px;background-color: rgb(200, 200, 200);\"></td><td title=\"Index: [1, 3]&#10;Color: (200, 200, 200)\" style=\"width: 30px; height: 30px;background-color: rgb(200, 200, 200);\"></td><td title=\"Index: [1, 4]&#10;Color: (200, 200, 200)\" style=\"width: 30px; height: 30px;background-color: rgb(200, 200, 200);\"></td><td title=\"Index: [1, 5]&#10;Color: (200, 200, 200)\" style=\"width: 30px; height: 30px;background-color: rgb(200, 200, 200);\"></td><td title=\"Index: [1, 6]&#10;Color: (200, 200, 200)\" style=\"width: 30px; height: 30px;background-color: rgb(200, 200, 200);\"></td><td title=\"Index: [1, 7]&#10;Color: (200, 200, 200)\" style=\"width: 30px; height: 30px;background-color: rgb(200, 200, 200);\"></td></tr><tr><td title=\"Index: [2, 0]&#10;Color: (200, 200, 200)\" style=\"width: 30px; height: 30px;background-color: rgb(200, 200, 200);\"></td><td title=\"Index: [2, 1]&#10;Color: (200, 200, 200)\" style=\"width: 30px; height: 30px;background-color: rgb(200, 200, 200);\"></td><td title=\"Index: [2, 2]&#10;Color: (200, 200, 200)\" style=\"width: 30px; height: 30px;background-color: rgb(200, 200, 200);\"></td><td title=\"Index: [2, 3]&#10;Color: (255, 255, 255)\" style=\"width: 30px; height: 30px;background-color: rgb(255, 255, 255);\"></td><td title=\"Index: [2, 4]&#10;Color: (200, 200, 200)\" style=\"width: 30px; height: 30px;background-color: rgb(200, 200, 200);\"></td><td title=\"Index: [2, 5]&#10;Color: (200, 200, 200)\" style=\"width: 30px; height: 30px;background-color: rgb(200, 200, 200);\"></td><td title=\"Index: [2, 6]&#10;Color: (200, 200, 200)\" style=\"width: 30px; height: 30px;background-color: rgb(200, 200, 200);\"></td><td title=\"Index: [2, 7]&#10;Color: (200, 200, 200)\" style=\"width: 30px; height: 30px;background-color: rgb(200, 200, 200);\"></td></tr><tr><td title=\"Index: [3, 0]&#10;Color: (200, 200, 200)\" style=\"width: 30px; height: 30px;background-color: rgb(200, 200, 200);\"></td><td title=\"Index: [3, 1]&#10;Color: (200, 200, 200)\" style=\"width: 30px; height: 30px;background-color: rgb(200, 200, 200);\"></td><td title=\"Index: [3, 2]&#10;Color: (200, 200, 200)\" style=\"width: 30px; height: 30px;background-color: rgb(200, 200, 200);\"></td><td title=\"Index: [3, 3]&#10;Color: (200, 200, 200)\" style=\"width: 30px; height: 30px;background-color: rgb(200, 200, 200);\"></td><td title=\"Index: [3, 4]&#10;Color: (200, 200, 200)\" style=\"width: 30px; height: 30px;background-color: rgb(200, 200, 200);\"></td><td title=\"Index: [3, 5]&#10;Color: (200, 200, 200)\" style=\"width: 30px; height: 30px;background-color: rgb(200, 200, 200);\"></td><td title=\"Index: [3, 6]&#10;Color: (200, 200, 200)\" style=\"width: 30px; height: 30px;background-color: rgb(200, 200, 200);\"></td><td title=\"Index: [3, 7]&#10;Color: (200, 200, 200)\" style=\"width: 30px; height: 30px;background-color: rgb(200, 200, 200);\"></td></tr><tr><td title=\"Index: [4, 0]&#10;Color: (140, 140, 140)\" style=\"width: 30px; height: 30px;background-color: rgb(140, 140, 140);\"></td><td title=\"Index: [4, 1]&#10;Color: (6, 6, 6)\" style=\"width: 30px; height: 30px;background-color: rgb(6, 6, 6);\"></td><td title=\"Index: [4, 2]&#10;Color: (217, 217, 217)\" style=\"width: 30px; height: 30px;background-color: rgb(217, 217, 217);\"></td><td title=\"Index: [4, 3]&#10;Color: (199, 199, 199)\" style=\"width: 30px; height: 30px;background-color: rgb(199, 199, 199);\"></td><td title=\"Index: [4, 4]&#10;Color: (14, 14, 14)\" style=\"width: 30px; height: 30px;background-color: rgb(14, 14, 14);\"></td><td title=\"Index: [4, 5]&#10;Color: (65, 65, 65)\" style=\"width: 30px; height: 30px;background-color: rgb(65, 65, 65);\"></td><td title=\"Index: [4, 6]&#10;Color: (230, 230, 230)\" style=\"width: 30px; height: 30px;background-color: rgb(230, 230, 230);\"></td><td title=\"Index: [4, 7]&#10;Color: (53, 53, 53)\" style=\"width: 30px; height: 30px;background-color: rgb(53, 53, 53);\"></td></tr><tr><td title=\"Index: [5, 0]&#10;Color: (145, 145, 145)\" style=\"width: 30px; height: 30px;background-color: rgb(145, 145, 145);\"></td><td title=\"Index: [5, 1]&#10;Color: (27, 27, 27)\" style=\"width: 30px; height: 30px;background-color: rgb(27, 27, 27);\"></td><td title=\"Index: [5, 2]&#10;Color: (138, 138, 138)\" style=\"width: 30px; height: 30px;background-color: rgb(138, 138, 138);\"></td><td title=\"Index: [5, 3]&#10;Color: (219, 219, 219)\" style=\"width: 30px; height: 30px;background-color: rgb(219, 219, 219);\"></td><td title=\"Index: [5, 4]&#10;Color: (80, 80, 80)\" style=\"width: 30px; height: 30px;background-color: rgb(80, 80, 80);\"></td><td title=\"Index: [5, 5]&#10;Color: (53, 53, 53)\" style=\"width: 30px; height: 30px;background-color: rgb(53, 53, 53);\"></td><td title=\"Index: [5, 6]&#10;Color: (2, 2, 2)\" style=\"width: 30px; height: 30px;background-color: rgb(2, 2, 2);\"></td><td title=\"Index: [5, 7]&#10;Color: (210, 210, 210)\" style=\"width: 30px; height: 30px;background-color: rgb(210, 210, 210);\"></td></tr><tr><td title=\"Index: [6, 0]&#10;Color: (248, 248, 248)\" style=\"width: 30px; height: 30px;background-color: rgb(248, 248, 248);\"></td><td title=\"Index: [6, 1]&#10;Color: (240, 240, 240)\" style=\"width: 30px; height: 30px;background-color: rgb(240, 240, 240);\"></td><td title=\"Index: [6, 2]&#10;Color: (102, 102, 102)\" style=\"width: 30px; height: 30px;background-color: rgb(102, 102, 102);\"></td><td title=\"Index: [6, 3]&#10;Color: (242, 242, 242)\" style=\"width: 30px; height: 30px;background-color: rgb(242, 242, 242);\"></td><td title=\"Index: [6, 4]&#10;Color: (215, 215, 215)\" style=\"width: 30px; height: 30px;background-color: rgb(215, 215, 215);\"></td><td title=\"Index: [6, 5]&#10;Color: (199, 199, 199)\" style=\"width: 30px; height: 30px;background-color: rgb(199, 199, 199);\"></td><td title=\"Index: [6, 6]&#10;Color: (55, 55, 55)\" style=\"width: 30px; height: 30px;background-color: rgb(55, 55, 55);\"></td><td title=\"Index: [6, 7]&#10;Color: (139, 139, 139)\" style=\"width: 30px; height: 30px;background-color: rgb(139, 139, 139);\"></td></tr><tr><td title=\"Index: [7, 0]&#10;Color: (67, 67, 67)\" style=\"width: 30px; height: 30px;background-color: rgb(67, 67, 67);\"></td><td title=\"Index: [7, 1]&#10;Color: (141, 141, 141)\" style=\"width: 30px; height: 30px;background-color: rgb(141, 141, 141);\"></td><td title=\"Index: [7, 2]&#10;Color: (78, 78, 78)\" style=\"width: 30px; height: 30px;background-color: rgb(78, 78, 78);\"></td><td title=\"Index: [7, 3]&#10;Color: (160, 160, 160)\" style=\"width: 30px; height: 30px;background-color: rgb(160, 160, 160);\"></td><td title=\"Index: [7, 4]&#10;Color: (113, 113, 113)\" style=\"width: 30px; height: 30px;background-color: rgb(113, 113, 113);\"></td><td title=\"Index: [7, 5]&#10;Color: (138, 138, 138)\" style=\"width: 30px; height: 30px;background-color: rgb(138, 138, 138);\"></td><td title=\"Index: [7, 6]&#10;Color: (112, 112, 112)\" style=\"width: 30px; height: 30px;background-color: rgb(112, 112, 112);\"></td><td title=\"Index: [7, 7]&#10;Color: (77, 77, 77)\" style=\"width: 30px; height: 30px;background-color: rgb(77, 77, 77);\"></td></tr><tr><td title=\"Index: [8, 0]&#10;Color: (134, 134, 134)\" style=\"width: 30px; height: 30px;background-color: rgb(134, 134, 134);\"></td><td title=\"Index: [8, 1]&#10;Color: (102, 102, 102)\" style=\"width: 30px; height: 30px;background-color: rgb(102, 102, 102);\"></td><td title=\"Index: [8, 2]&#10;Color: (65, 65, 65)\" style=\"width: 30px; height: 30px;background-color: rgb(65, 65, 65);\"></td><td title=\"Index: [8, 3]&#10;Color: (159, 159, 159)\" style=\"width: 30px; height: 30px;background-color: rgb(159, 159, 159);\"></td><td title=\"Index: [8, 4]&#10;Color: (6, 6, 6)\" style=\"width: 30px; height: 30px;background-color: rgb(6, 6, 6);\"></td><td title=\"Index: [8, 5]&#10;Color: (187, 187, 187)\" style=\"width: 30px; height: 30px;background-color: rgb(187, 187, 187);\"></td><td title=\"Index: [8, 6]&#10;Color: (70, 70, 70)\" style=\"width: 30px; height: 30px;background-color: rgb(70, 70, 70);\"></td><td title=\"Index: [8, 7]&#10;Color: (118, 118, 118)\" style=\"width: 30px; height: 30px;background-color: rgb(118, 118, 118);\"></td></tr><tr><td title=\"Index: [9, 0]&#10;Color: (79, 79, 79)\" style=\"width: 30px; height: 30px;background-color: rgb(79, 79, 79);\"></td><td title=\"Index: [9, 1]&#10;Color: (73, 73, 73)\" style=\"width: 30px; height: 30px;background-color: rgb(73, 73, 73);\"></td><td title=\"Index: [9, 2]&#10;Color: (142, 142, 142)\" style=\"width: 30px; height: 30px;background-color: rgb(142, 142, 142);\"></td><td title=\"Index: [9, 3]&#10;Color: (134, 134, 134)\" style=\"width: 30px; height: 30px;background-color: rgb(134, 134, 134);\"></td><td title=\"Index: [9, 4]&#10;Color: (101, 101, 101)\" style=\"width: 30px; height: 30px;background-color: rgb(101, 101, 101);\"></td><td title=\"Index: [9, 5]&#10;Color: (84, 84, 84)\" style=\"width: 30px; height: 30px;background-color: rgb(84, 84, 84);\"></td><td title=\"Index: [9, 6]&#10;Color: (42, 42, 42)\" style=\"width: 30px; height: 30px;background-color: rgb(42, 42, 42);\"></td><td title=\"Index: [9, 7]&#10;Color: (171, 171, 171)\" style=\"width: 30px; height: 30px;background-color: rgb(171, 171, 171);\"></td></tr></tbody></table>"
      ],
      "text/plain": [
       "<ipythonblocks.ipythonblocks.BlockGrid at 0x200aff954e0>"
      ]
     },
     "execution_count": 14,
     "metadata": {},
     "output_type": "execute_result"
    }
   ],
   "source": [
    "import random\n",
    "for i in range (0, 8) :\n",
    "    for j in range (4, 10) :\n",
    "        gris = random.randint(0,255)\n",
    "        maGrille[j,i]=(gris,gris,gris)\n",
    "maGrille"
   ]
  },
  {
   "cell_type": "markdown",
   "metadata": {},
   "source": [
    "><h2 class='fa fa-graduation-cap' style=\"color: purple\"> Exercice de prise en main :</h2>\n",
    ">\n",
    "> Créer un code qui génère une grille identique à l'image ci-dessous :\n",
    ">\n",
    "><img src=\"https://ericecmorlaix.github.io/img/NSI-ASCII-2D_Code.png\" alt=\"ExerciceCodageASCII.png\">\n",
    ">\n"
   ]
  },
  {
   "cell_type": "markdown",
   "metadata": {},
   "source": [
    "## Premier projet : un convertisseur décimal binaire graphique\n",
    "\n",
    "L'application à développer doit demander un nombre entier à convertir en binaire et afficher un résultat graphique sur une ligne tel que : \n",
    "\n",
    "<img src=\"https://ericecmorlaix.github.io/img/NSI-Exemple-2D_Code.png\" alt=\"ExerciceCodage.png\">\n",
    "\n",
    "> <h2 class='fa fa-code' style=\"color: purple\"> A coder vous même :</h2>\n",
    ">\n",
    "> Il est conseillé d'utiliser la fonction ``bin()`` de python qui renvoie un résultat sous la forme d'une chaine de caractères."
   ]
  },
  {
   "cell_type": "markdown",
   "metadata": {},
   "source": [
    "## Second projet : Prénom et Nom en 2D_Code\n",
    "\n",
    "L'application à développer doit enregistrer votre Prenom et votre Nom dans une chaine de caractères (chaque mot doit commencer par une lettre majuscule) puis générer une grille affichant le code ASCII de cette séquence au format d'un octet par ligne du haut vers le bas.\n",
    "\n",
    "#### Script de vérification du format d'entrée :\n",
    "\n",
    "Bien que l'on ait stipulé que chaque mot commence par une majuscule, il peut y avoir des erreurs de saisie et le format ne sera pas respecté."
   ]
  },
  {
   "cell_type": "code",
   "execution_count": null,
   "metadata": {},
   "outputs": [],
   "source": [
    "# -*- coding: utf-8 -*-\n",
    "\"\"\"\n",
    "Programme de formattage du texte\n",
    "saisi au clavier pour le 2D code\n",
    "\"\"\"\n",
    "\n",
    "def Majuscule(caractere):\n",
    "    \"\"\"\n",
    "    Description\n",
    "    prend un caractere en entree et le renvoie en majuscule\n",
    "    si c'est déjà une majuscule, il n'y a pas de traitement.\n",
    "    Exemple :\n",
    "    >>> print(Majuscule(p))\n",
    "    >>> P\n",
    "    Précondition : le caractère est une majuscule ou une minuscule codée en ASCII\n",
    "    Postcondition : la majuscule du caractère est renvoyée\n",
    "    \"\"\"\n",
    "    assert ord(caractere) <=122,\"Caractère non traité\"\n",
    "    assert ord(caractere) >= 65,\"Caractère non traité\"\n",
    "    # Votre code ici : \n",
    "\n",
    "\n",
    "# Programme principal\n",
    "\n",
    "texte=input(\"Saisir votre nom et prénom : \")    \n",
    "texte_modifie=\"\"\n",
    "longueur =len(texte)\n",
    "\n",
    "texte_modifie=Majuscule(texte[0])\n",
    "for i in range(1, longueur):\n",
    "    # Si le caractère qui suit un espace est une minuscule\n",
    "    if  texte[i-1]==\" \":\n",
    "            texte_modifie=texte_modifie+Majuscule(texte[i])\n",
    "    else:\n",
    "        texte_modifie=texte_modifie+texte[i]\n",
    "\n",
    "print(texte_modifie)"
   ]
  },
  {
   "cell_type": "markdown",
   "metadata": {},
   "source": [
    "> <h2 class='fa fa-code' style=\"color: purple\"> A faire vous même :</h2>\n",
    ">\n",
    "> - Compléter la fonction permettant de mettre en majuscule, la première lettre de chaque mot de la chaîne de caractères.\n",
    ">\n",
    "> - Rechercher la signification de l'instruction \"assert\". Justifier les assertions réalisées dans la fonction.\n",
    ">\n",
    "> Remarques :\n",
    "> - On suggère d'étudier la table des codes ASCII pour les caractères utiles ;\n",
    "> - l'utilisation des méthodes chr() et ord().\n",
    ">\n",
    "> #### Script 2D_Code :\n",
    ">\n",
    "> - Développer une fonction de conversion graphique en 2D_Code utilisant le module ipythonblocks"
   ]
  },
  {
   "cell_type": "markdown",
   "metadata": {},
   "source": [
    "## Ressources pour aller plus loin avec ipythonblocks :\n",
    "\n",
    "- https://nbviewer.jupyter.org/github/jiffyclub/ipythonblocks/blob/master/demos/learning_colors.ipynb\n",
    "- https://nbviewer.jupyter.org/github/jiffyclub/ipythonblocks/blob/master/demos/ipythonblocks_imagegrid.ipynb\n",
    "- https://nbviewer.jupyter.org/github/jiffyclub/ipythonblocks/blob/master/demos/ipythonblocks_org_demo.ipynb\n",
    "\n",
    "\n",
    "- http://www.ipythonblocks.org/\n",
    "- https://github.com/jiffyclub/ipythonblocks"
   ]
  },
  {
   "cell_type": "code",
   "execution_count": null,
   "metadata": {},
   "outputs": [],
   "source": []
  }
 ],
 "metadata": {
  "kernelspec": {
   "display_name": "Python 3",
   "language": "python",
   "name": "python3"
  },
  "language_info": {
   "codemirror_mode": {
    "name": "ipython",
    "version": 3
   },
   "file_extension": ".py",
   "mimetype": "text/x-python",
   "name": "python",
   "nbconvert_exporter": "python",
   "pygments_lexer": "ipython3",
   "version": "3.7.3"
  }
 },
 "nbformat": 4,
 "nbformat_minor": 2
}
